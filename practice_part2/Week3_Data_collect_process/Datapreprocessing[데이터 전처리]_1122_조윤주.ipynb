{
 "cells": [
  {
   "cell_type": "markdown",
   "metadata": {},
   "source": [
    "## 데이터 전처리\n",
    "[목차]\n",
    "- 데이터 전처리란? 무엇이며, 데이터 전처리를 왜 하는가?\n",
    "\n",
    "- 데이터 전처리 기초\n",
    "1. missingno 패키지(결측 데이터 검색)\n",
    "2. sklearn.impute 패키지(결측 데이터 대체)\n",
    "3. patsy 패키지(데이터 선택, 변환, 추가, 스케일링)\n",
    "\n",
    "- 범주형 데이터 처리\n",
    "1. 범주형 데이터의 정의\n",
    "2. 범주형 데이터의 변형\n",
    "3. 더비변수화\n",
    "4. pasty 패키지를 사용한 더미변수화\n",
    "5. 축소랭크 방식\n",
    "6. 두 개의 범주형 변수가 있는 경우\n",
    "7. 카테고리 임베딩"
   ]
  },
  {
   "cell_type": "markdown",
   "metadata": {},
   "source": [
    "## 데이터 전처리(Data Preprocessing)란?무엇이며, 데이터 전처리를 왜 하는가?\n",
    "**“Garbage In, Garbage Out”**\n",
    "=> **“쓰레기가 들어가면 쓰레기가 나온다”** 라는 의미로,\n",
    "\n",
    "쓰레기(잘 가공되지 않은 데이터)가 들어가면 쓰레기(이상한 분석결과)가 나온다는 것을 의미\n",
    "\n",
    "=> 데이터를 불러왔으면, 분석하려는 문제에 맞추어 데이터를 가공해야함\n",
    "\n",
    "<img src = \"https://i0.wp.com/www.dodomira.com/wp-content/uploads/2016/10/Time-1200x511.jpg?w=960 \" height = 400 width = 800 >\n",
    "\n",
    "- 사진에 대한 설명: 데이터 분석을 할 때 60% 정도의 시간을 데이터를 정리하고 구성하는데 사용, 데이터를 수집하는 시간은 19% 정도임\n",
    "- 즉, 데이터 전처리는 데이터 분석 과정 속에서 가장 많은 시간이 투입됨\n",
    "\n",
    "데이터 전처리는 데이터에서 1.필요없는 변수를 제거하고, 2.중복값을 처리하고, 3.결측값을 대체하며, 4.새로운 변수를 생성하는 등 데이터를 분석하기 좋은 형태로 다양하게 수행하는 과정"
   ]
  },
  {
   "cell_type": "markdown",
   "metadata": {},
   "source": [
    "## 데이터 전처리 기초\n",
    "\n",
    "-> 데이터에서 필요한 정보를 추출하기 위해 다음과 같은 패키지를 사용하여 전처리를 진행한다.\n",
    "\n",
    "1. missingno 패키지(결측 데이터 검색)\n",
    "\n",
    "2. sklearn.impute 패키지(결측 데이터 대체)\n",
    "\n",
    "3. patsy 패키지(데이터 선택, 변환, 추가, 스케일링)\n",
    "\n",
    "=> 데이터를 분석이나 모델링에 적용하기 전에 데이터를 정리하고 가공하는 과정. "
   ]
  },
  {
   "attachments": {
    "image.png": {
     "image/png": "[encoded data removed]"
    }
   },
   "cell_type": "markdown",
   "metadata": {},
   "source": [
    "## pandas에서 결측 데이터를 찾는 방법 (missingno 패키지)\n",
    "![image.png](attachment:image.png)\n",
    "\n",
    "현실 데이터를 수집하다보면, 데이터의 일부를 얻지 못하거나 누락되는 결측 데이터NaN(not a number)이 생길 수 있음(표 참조)\n",
    "\n",
    "이를 찾는 데 사용할 수 있는 주요 메서드는..\n",
    "\n",
    "1-1. isnull() 또는 isna()\n",
    "\n",
    "1-2. notnull() 또는 notna()\n",
    "\n",
    "1-3. any() 및 all()\n",
    "\n",
    "1-4. missingno 패키지\n"
   ]
  },
  {
   "cell_type": "code",
   "execution_count": 108,
   "metadata": {},
   "outputs": [
    {
     "name": "stdout",
     "output_type": "stream",
     "text": [
      "Requirement already satisfied: pandas in c:\\users\\jyjj0\\appdata\\local\\programs\\python\\python311\\lib\\site-packages (1.5.3)\n",
      "Requirement already satisfied: python-dateutil>=2.8.1 in c:\\users\\jyjj0\\appdata\\local\\programs\\python\\python311\\lib\\site-packages (from pandas) (2.8.2)\n",
      "Requirement already satisfied: pytz>=2020.1 in c:\\users\\jyjj0\\appdata\\local\\programs\\python\\python311\\lib\\site-packages (from pandas) (2022.7.1)\n",
      "Requirement already satisfied: numpy>=1.21.0 in c:\\users\\jyjj0\\appdata\\local\\programs\\python\\python311\\lib\\site-packages (from pandas) (1.24.2)\n",
      "Requirement already satisfied: six>=1.5 in c:\\users\\jyjj0\\appdata\\local\\programs\\python\\python311\\lib\\site-packages (from python-dateutil>=2.8.1->pandas) (1.16.0)\n"
     ]
    },
    {
     "name": "stderr",
     "output_type": "stream",
     "text": [
      "\n",
      "[notice] A new release of pip is available: 23.2.1 -> 23.3.1\n",
      "[notice] To update, run: python.exe -m pip install --upgrade pip\n"
     ]
    },
    {
     "data": {
      "text/html": [
       "<div>\n",
       "<style scoped>\n",
       "    .dataframe tbody tr th:only-of-type {\n",
       "        vertical-align: middle;\n",
       "    }\n",
       "\n",
       "    .dataframe tbody tr th {\n",
       "        vertical-align: top;\n",
       "    }\n",
       "\n",
       "    .dataframe thead th {\n",
       "        text-align: right;\n",
       "    }\n",
       "</style>\n",
       "<table border=\"1\" class=\"dataframe\">\n",
       "  <thead>\n",
       "    <tr style=\"text-align: right;\">\n",
       "      <th></th>\n",
       "      <th>x1</th>\n",
       "      <th>x2</th>\n",
       "      <th>x3</th>\n",
       "      <th>x4</th>\n",
       "      <th>x5</th>\n",
       "    </tr>\n",
       "  </thead>\n",
       "  <tbody>\n",
       "    <tr>\n",
       "      <th>0</th>\n",
       "      <td>1</td>\n",
       "      <td>0.1</td>\n",
       "      <td>1.0</td>\n",
       "      <td>2019-01-01</td>\n",
       "      <td>A</td>\n",
       "    </tr>\n",
       "    <tr>\n",
       "      <th>1</th>\n",
       "      <td>2</td>\n",
       "      <td>NaN</td>\n",
       "      <td>NaN</td>\n",
       "      <td>2019-01-02</td>\n",
       "      <td>B</td>\n",
       "    </tr>\n",
       "    <tr>\n",
       "      <th>2</th>\n",
       "      <td>3</td>\n",
       "      <td>NaN</td>\n",
       "      <td>3.0</td>\n",
       "      <td>2019-01-03</td>\n",
       "      <td>C</td>\n",
       "    </tr>\n",
       "    <tr>\n",
       "      <th>3</th>\n",
       "      <td>&lt;NA&gt;</td>\n",
       "      <td>0.4</td>\n",
       "      <td>4.0</td>\n",
       "      <td>2019-01-04</td>\n",
       "      <td>A</td>\n",
       "    </tr>\n",
       "    <tr>\n",
       "      <th>4</th>\n",
       "      <td>5</td>\n",
       "      <td>0.5</td>\n",
       "      <td>5.0</td>\n",
       "      <td>2019-01-05</td>\n",
       "      <td>B</td>\n",
       "    </tr>\n",
       "    <tr>\n",
       "      <th>5</th>\n",
       "      <td>&lt;NA&gt;</td>\n",
       "      <td>NaN</td>\n",
       "      <td>NaN</td>\n",
       "      <td>2019-01-06</td>\n",
       "      <td>C</td>\n",
       "    </tr>\n",
       "    <tr>\n",
       "      <th>6</th>\n",
       "      <td>7</td>\n",
       "      <td>0.7</td>\n",
       "      <td>7.0</td>\n",
       "      <td>NaT</td>\n",
       "      <td>A</td>\n",
       "    </tr>\n",
       "    <tr>\n",
       "      <th>7</th>\n",
       "      <td>8</td>\n",
       "      <td>0.8</td>\n",
       "      <td>8.0</td>\n",
       "      <td>2019-01-08</td>\n",
       "      <td>B</td>\n",
       "    </tr>\n",
       "    <tr>\n",
       "      <th>8</th>\n",
       "      <td>9</td>\n",
       "      <td>0.9</td>\n",
       "      <td>NaN</td>\n",
       "      <td>2019-01-09</td>\n",
       "      <td>C</td>\n",
       "    </tr>\n",
       "  </tbody>\n",
       "</table>\n",
       "</div>"
      ],
      "text/plain": [
       "     x1   x2   x3         x4 x5\n",
       "0     1  0.1  1.0 2019-01-01  A\n",
       "1     2  NaN  NaN 2019-01-02  B\n",
       "2     3  NaN  3.0 2019-01-03  C\n",
       "3  <NA>  0.4  4.0 2019-01-04  A\n",
       "4     5  0.5  5.0 2019-01-05  B\n",
       "5  <NA>  NaN  NaN 2019-01-06  C\n",
       "6     7  0.7  7.0        NaT  A\n",
       "7     8  0.8  8.0 2019-01-08  B\n",
       "8     9  0.9  NaN 2019-01-09  C"
      ]
     },
     "execution_count": 108,
     "metadata": {},
     "output_type": "execute_result"
    }
   ],
   "source": [
    "##1\n",
    "\n",
    "!pip install pandas\n",
    "import pandas as pd\n",
    "\n",
    "import matplotlib.pyplot as plt\n",
    "\n",
    "from io import StringIO\n",
    "\n",
    "csv_data = StringIO(\"\"\"\n",
    "x1,x2,x3,x4,x5\n",
    "1,0.1,\"1\",2019-01-01,A\n",
    "2,,,2019-01-02,B\n",
    "3,,\"3\",2019-01-03,C\n",
    ",0.4,\"4\",2019-01-04,A\n",
    "5,0.5,\"5\",2019-01-05,B\n",
    ",,,2019-01-06,C\n",
    "7,0.7,\"7\",,A\n",
    "8,0.8,\"8\",2019-01-08,B\n",
    "9,0.9,,2019-01-09,C\n",
    "\"\"\")\n",
    "\n",
    "df = pd.read_csv(csv_data, dtype={\"x1\": pd.Int64Dtype()}, parse_dates=[\"x4\"])\n",
    "df"
   ]
  },
  {
   "cell_type": "code",
   "execution_count": 109,
   "metadata": {},
   "outputs": [
    {
     "data": {
      "text/html": [
       "<div>\n",
       "<style scoped>\n",
       "    .dataframe tbody tr th:only-of-type {\n",
       "        vertical-align: middle;\n",
       "    }\n",
       "\n",
       "    .dataframe tbody tr th {\n",
       "        vertical-align: top;\n",
       "    }\n",
       "\n",
       "    .dataframe thead th {\n",
       "        text-align: right;\n",
       "    }\n",
       "</style>\n",
       "<table border=\"1\" class=\"dataframe\">\n",
       "  <thead>\n",
       "    <tr style=\"text-align: right;\">\n",
       "      <th></th>\n",
       "      <th>x1</th>\n",
       "      <th>x2</th>\n",
       "      <th>x3</th>\n",
       "      <th>x4</th>\n",
       "      <th>x5</th>\n",
       "    </tr>\n",
       "  </thead>\n",
       "  <tbody>\n",
       "    <tr>\n",
       "      <th>0</th>\n",
       "      <td>False</td>\n",
       "      <td>False</td>\n",
       "      <td>False</td>\n",
       "      <td>False</td>\n",
       "      <td>False</td>\n",
       "    </tr>\n",
       "    <tr>\n",
       "      <th>1</th>\n",
       "      <td>False</td>\n",
       "      <td>True</td>\n",
       "      <td>True</td>\n",
       "      <td>False</td>\n",
       "      <td>False</td>\n",
       "    </tr>\n",
       "    <tr>\n",
       "      <th>2</th>\n",
       "      <td>False</td>\n",
       "      <td>True</td>\n",
       "      <td>False</td>\n",
       "      <td>False</td>\n",
       "      <td>False</td>\n",
       "    </tr>\n",
       "    <tr>\n",
       "      <th>3</th>\n",
       "      <td>True</td>\n",
       "      <td>False</td>\n",
       "      <td>False</td>\n",
       "      <td>False</td>\n",
       "      <td>False</td>\n",
       "    </tr>\n",
       "    <tr>\n",
       "      <th>4</th>\n",
       "      <td>False</td>\n",
       "      <td>False</td>\n",
       "      <td>False</td>\n",
       "      <td>False</td>\n",
       "      <td>False</td>\n",
       "    </tr>\n",
       "    <tr>\n",
       "      <th>5</th>\n",
       "      <td>True</td>\n",
       "      <td>True</td>\n",
       "      <td>True</td>\n",
       "      <td>False</td>\n",
       "      <td>False</td>\n",
       "    </tr>\n",
       "    <tr>\n",
       "      <th>6</th>\n",
       "      <td>False</td>\n",
       "      <td>False</td>\n",
       "      <td>False</td>\n",
       "      <td>True</td>\n",
       "      <td>False</td>\n",
       "    </tr>\n",
       "    <tr>\n",
       "      <th>7</th>\n",
       "      <td>False</td>\n",
       "      <td>False</td>\n",
       "      <td>False</td>\n",
       "      <td>False</td>\n",
       "      <td>False</td>\n",
       "    </tr>\n",
       "    <tr>\n",
       "      <th>8</th>\n",
       "      <td>False</td>\n",
       "      <td>False</td>\n",
       "      <td>True</td>\n",
       "      <td>False</td>\n",
       "      <td>False</td>\n",
       "    </tr>\n",
       "  </tbody>\n",
       "</table>\n",
       "</div>"
      ],
      "text/plain": [
       "      x1     x2     x3     x4     x5\n",
       "0  False  False  False  False  False\n",
       "1  False   True   True  False  False\n",
       "2  False   True  False  False  False\n",
       "3   True  False  False  False  False\n",
       "4  False  False  False  False  False\n",
       "5   True   True   True  False  False\n",
       "6  False  False  False   True  False\n",
       "7  False  False  False  False  False\n",
       "8  False  False   True  False  False"
      ]
     },
     "execution_count": 109,
     "metadata": {},
     "output_type": "execute_result"
    }
   ],
   "source": [
    "##2\n",
    "\n",
    "df. isnull()"
   ]
  },
  {
   "cell_type": "code",
   "execution_count": 110,
   "metadata": {},
   "outputs": [
    {
     "data": {
      "text/html": [
       "<div>\n",
       "<style scoped>\n",
       "    .dataframe tbody tr th:only-of-type {\n",
       "        vertical-align: middle;\n",
       "    }\n",
       "\n",
       "    .dataframe tbody tr th {\n",
       "        vertical-align: top;\n",
       "    }\n",
       "\n",
       "    .dataframe thead th {\n",
       "        text-align: right;\n",
       "    }\n",
       "</style>\n",
       "<table border=\"1\" class=\"dataframe\">\n",
       "  <thead>\n",
       "    <tr style=\"text-align: right;\">\n",
       "      <th></th>\n",
       "      <th>x1</th>\n",
       "      <th>x2</th>\n",
       "      <th>x3</th>\n",
       "      <th>x4</th>\n",
       "      <th>x5</th>\n",
       "    </tr>\n",
       "  </thead>\n",
       "  <tbody>\n",
       "    <tr>\n",
       "      <th>0</th>\n",
       "      <td>True</td>\n",
       "      <td>True</td>\n",
       "      <td>True</td>\n",
       "      <td>True</td>\n",
       "      <td>True</td>\n",
       "    </tr>\n",
       "    <tr>\n",
       "      <th>1</th>\n",
       "      <td>True</td>\n",
       "      <td>False</td>\n",
       "      <td>False</td>\n",
       "      <td>True</td>\n",
       "      <td>True</td>\n",
       "    </tr>\n",
       "    <tr>\n",
       "      <th>2</th>\n",
       "      <td>True</td>\n",
       "      <td>False</td>\n",
       "      <td>True</td>\n",
       "      <td>True</td>\n",
       "      <td>True</td>\n",
       "    </tr>\n",
       "    <tr>\n",
       "      <th>3</th>\n",
       "      <td>False</td>\n",
       "      <td>True</td>\n",
       "      <td>True</td>\n",
       "      <td>True</td>\n",
       "      <td>True</td>\n",
       "    </tr>\n",
       "    <tr>\n",
       "      <th>4</th>\n",
       "      <td>True</td>\n",
       "      <td>True</td>\n",
       "      <td>True</td>\n",
       "      <td>True</td>\n",
       "      <td>True</td>\n",
       "    </tr>\n",
       "    <tr>\n",
       "      <th>5</th>\n",
       "      <td>False</td>\n",
       "      <td>False</td>\n",
       "      <td>False</td>\n",
       "      <td>True</td>\n",
       "      <td>True</td>\n",
       "    </tr>\n",
       "    <tr>\n",
       "      <th>6</th>\n",
       "      <td>True</td>\n",
       "      <td>True</td>\n",
       "      <td>True</td>\n",
       "      <td>False</td>\n",
       "      <td>True</td>\n",
       "    </tr>\n",
       "    <tr>\n",
       "      <th>7</th>\n",
       "      <td>True</td>\n",
       "      <td>True</td>\n",
       "      <td>True</td>\n",
       "      <td>True</td>\n",
       "      <td>True</td>\n",
       "    </tr>\n",
       "    <tr>\n",
       "      <th>8</th>\n",
       "      <td>True</td>\n",
       "      <td>True</td>\n",
       "      <td>False</td>\n",
       "      <td>True</td>\n",
       "      <td>True</td>\n",
       "    </tr>\n",
       "  </tbody>\n",
       "</table>\n",
       "</div>"
      ],
      "text/plain": [
       "      x1     x2     x3     x4    x5\n",
       "0   True   True   True   True  True\n",
       "1   True  False  False   True  True\n",
       "2   True  False   True   True  True\n",
       "3  False   True   True   True  True\n",
       "4   True   True   True   True  True\n",
       "5  False  False  False   True  True\n",
       "6   True   True   True  False  True\n",
       "7   True   True   True   True  True\n",
       "8   True   True  False   True  True"
      ]
     },
     "execution_count": 110,
     "metadata": {},
     "output_type": "execute_result"
    }
   ],
   "source": [
    "##3\n",
    "\n",
    "df.notnull()"
   ]
  },
  {
   "cell_type": "code",
   "execution_count": 111,
   "metadata": {},
   "outputs": [
    {
     "data": {
      "text/plain": [
       "x1    True\n",
       "x2    True\n",
       "x3    True\n",
       "x4    True\n",
       "x5    True\n",
       "dtype: bool"
      ]
     },
     "execution_count": 111,
     "metadata": {},
     "output_type": "execute_result"
    }
   ],
   "source": [
    "##4\n",
    "\n",
    "df.any()"
   ]
  },
  {
   "cell_type": "code",
   "execution_count": 112,
   "metadata": {},
   "outputs": [
    {
     "data": {
      "text/plain": [
       "x1    2\n",
       "x2    3\n",
       "x3    3\n",
       "x4    1\n",
       "x5    0\n",
       "dtype: int64"
      ]
     },
     "execution_count": 112,
     "metadata": {},
     "output_type": "execute_result"
    }
   ],
   "source": [
    "##5\n",
    "\n",
    "df. isnull().sum()"
   ]
  },
  {
   "cell_type": "code",
   "execution_count": 113,
   "metadata": {},
   "outputs": [
    {
     "name": "stdout",
     "output_type": "stream",
     "text": [
      "Requirement already satisfied: missingno in c:\\users\\jyjj0\\appdata\\local\\programs\\python\\python311\\lib\\site-packages (0.5.2)\n",
      "Requirement already satisfied: numpy in c:\\users\\jyjj0\\appdata\\local\\programs\\python\\python311\\lib\\site-packages (from missingno) (1.24.2)\n",
      "Requirement already satisfied: matplotlib in c:\\users\\jyjj0\\appdata\\local\\programs\\python\\python311\\lib\\site-packages (from missingno) (3.8.2)\n",
      "Requirement already satisfied: scipy in c:\\users\\jyjj0\\appdata\\local\\programs\\python\\python311\\lib\\site-packages (from missingno) (1.11.3)\n",
      "Requirement already satisfied: seaborn in c:\\users\\jyjj0\\appdata\\local\\programs\\python\\python311\\lib\\site-packages (from missingno) (0.13.0)\n",
      "Requirement already satisfied: contourpy>=1.0.1 in c:\\users\\jyjj0\\appdata\\local\\programs\\python\\python311\\lib\\site-packages (from matplotlib->missingno) (1.1.1)\n",
      "Requirement already satisfied: cycler>=0.10 in c:\\users\\jyjj0\\appdata\\local\\programs\\python\\python311\\lib\\site-packages (from matplotlib->missingno) (0.12.1)\n",
      "Requirement already satisfied: fonttools>=4.22.0 in c:\\users\\jyjj0\\appdata\\local\\programs\\python\\python311\\lib\\site-packages (from matplotlib->missingno) (4.43.1)\n",
      "Requirement already satisfied: kiwisolver>=1.3.1 in c:\\users\\jyjj0\\appdata\\local\\programs\\python\\python311\\lib\\site-packages (from matplotlib->missingno) (1.4.5)\n",
      "Requirement already satisfied: packaging>=20.0 in c:\\users\\jyjj0\\appdata\\local\\programs\\python\\python311\\lib\\site-packages (from matplotlib->missingno) (23.0)\n",
      "Requirement already satisfied: pillow>=8 in c:\\users\\jyjj0\\appdata\\local\\programs\\python\\python311\\lib\\site-packages (from matplotlib->missingno) (10.0.1)\n",
      "Requirement already satisfied: pyparsing>=2.3.1 in c:\\users\\jyjj0\\appdata\\local\\programs\\python\\python311\\lib\\site-packages (from matplotlib->missingno) (3.1.1)\n",
      "Requirement already satisfied: python-dateutil>=2.7 in c:\\users\\jyjj0\\appdata\\local\\programs\\python\\python311\\lib\\site-packages (from matplotlib->missingno) (2.8.2)\n",
      "Requirement already satisfied: pandas>=1.2 in c:\\users\\jyjj0\\appdata\\local\\programs\\python\\python311\\lib\\site-packages (from seaborn->missingno) (1.5.3)\n",
      "Requirement already satisfied: pytz>=2020.1 in c:\\users\\jyjj0\\appdata\\local\\programs\\python\\python311\\lib\\site-packages (from pandas>=1.2->seaborn->missingno) (2022.7.1)\n",
      "Requirement already satisfied: six>=1.5 in c:\\users\\jyjj0\\appdata\\local\\programs\\python\\python311\\lib\\site-packages (from python-dateutil>=2.7->matplotlib->missingno) (1.16.0)\n"
     ]
    },
    {
     "name": "stderr",
     "output_type": "stream",
     "text": [
      "\n",
      "[notice] A new release of pip is available: 23.2.1 -> 23.3.1\n",
      "[notice] To update, run: python.exe -m pip install --upgrade pip\n"
     ]
    },
    {
     "data": {
      "image/png": "[encoded data removed]",
      "text/plain": [
       "<Figure size 2500x1000 with 2 Axes>"
      ]
     },
     "metadata": {},
     "output_type": "display_data"
    }
   ],
   "source": [
    "##6\n",
    "\n",
    "# data가 많아지면.. 결측 데이터를 일일히 확인할 수 없음\n",
    "# sum()메서드를 결합해 결측 데이터의 갯수정도는 유추 가능!\n",
    "# 이를 해결하기 위한 방법으로 ... missingno 패키지 사용\n",
    "\n",
    "# missingno 패키지로 대규모 데이터에서 결측 데이터 시각화 하기\n",
    "!pip install missingno\n",
    "\n",
    "import missingno as msno\n",
    "\n",
    "msno.matrix(df)\n",
    "plt.show()"
   ]
  },
  {
   "cell_type": "code",
   "execution_count": 114,
   "metadata": {},
   "outputs": [
    {
     "name": "stdout",
     "output_type": "stream",
     "text": [
      "Requirement already satisfied: matplotlib in c:\\users\\jyjj0\\appdata\\local\\programs\\python\\python311\\lib\\site-packages (3.8.2)\n",
      "Requirement already satisfied: contourpy>=1.0.1 in c:\\users\\jyjj0\\appdata\\local\\programs\\python\\python311\\lib\\site-packages (from matplotlib) (1.1.1)\n",
      "Requirement already satisfied: cycler>=0.10 in c:\\users\\jyjj0\\appdata\\local\\programs\\python\\python311\\lib\\site-packages (from matplotlib) (0.12.1)\n",
      "Requirement already satisfied: fonttools>=4.22.0 in c:\\users\\jyjj0\\appdata\\local\\programs\\python\\python311\\lib\\site-packages (from matplotlib) (4.43.1)\n",
      "Requirement already satisfied: kiwisolver>=1.3.1 in c:\\users\\jyjj0\\appdata\\local\\programs\\python\\python311\\lib\\site-packages (from matplotlib) (1.4.5)\n",
      "Requirement already satisfied: numpy<2,>=1.21 in c:\\users\\jyjj0\\appdata\\local\\programs\\python\\python311\\lib\\site-packages (from matplotlib) (1.24.2)\n",
      "Requirement already satisfied: packaging>=20.0 in c:\\users\\jyjj0\\appdata\\local\\programs\\python\\python311\\lib\\site-packages (from matplotlib) (23.0)\n",
      "Requirement already satisfied: pillow>=8 in c:\\users\\jyjj0\\appdata\\local\\programs\\python\\python311\\lib\\site-packages (from matplotlib) (10.0.1)\n",
      "Requirement already satisfied: pyparsing>=2.3.1 in c:\\users\\jyjj0\\appdata\\local\\programs\\python\\python311\\lib\\site-packages (from matplotlib) (3.1.1)\n",
      "Requirement already satisfied: python-dateutil>=2.7 in c:\\users\\jyjj0\\appdata\\local\\programs\\python\\python311\\lib\\site-packages (from matplotlib) (2.8.2)\n",
      "Requirement already satisfied: six>=1.5 in c:\\users\\jyjj0\\appdata\\local\\programs\\python\\python311\\lib\\site-packages (from python-dateutil>=2.7->matplotlib) (1.16.0)\n"
     ]
    },
    {
     "name": "stderr",
     "output_type": "stream",
     "text": [
      "\n",
      "[notice] A new release of pip is available: 23.2.1 -> 23.3.1\n",
      "[notice] To update, run: python.exe -m pip install --upgrade pip\n"
     ]
    },
    {
     "data": {
      "image/png": "[encoded data removed]",
      "text/plain": [
       "<Figure size 2500x1000 with 3 Axes>"
      ]
     },
     "metadata": {},
     "output_type": "display_data"
    }
   ],
   "source": [
    "##7\n",
    "\n",
    "#각 열에 결측 데이터가 얼마나 존재하는지 '시각화'해보자\n",
    "import missingno as msno\n",
    "import matplotlib.pyplot as plt\n",
    "!pip install --upgrade matplotlib\n",
    "\n",
    "msno. bar(df)\n",
    "plt.show()"
   ]
  },
  {
   "cell_type": "code",
   "execution_count": 115,
   "metadata": {},
   "outputs": [
    {
     "data": {
      "text/html": [
       "<div>\n",
       "<style scoped>\n",
       "    .dataframe tbody tr th:only-of-type {\n",
       "        vertical-align: middle;\n",
       "    }\n",
       "\n",
       "    .dataframe tbody tr th {\n",
       "        vertical-align: top;\n",
       "    }\n",
       "\n",
       "    .dataframe thead th {\n",
       "        text-align: right;\n",
       "    }\n",
       "</style>\n",
       "<table border=\"1\" class=\"dataframe\">\n",
       "  <thead>\n",
       "    <tr style=\"text-align: right;\">\n",
       "      <th></th>\n",
       "      <th>x1</th>\n",
       "      <th>x2</th>\n",
       "      <th>x3</th>\n",
       "      <th>x4</th>\n",
       "      <th>x5</th>\n",
       "    </tr>\n",
       "  </thead>\n",
       "  <tbody>\n",
       "    <tr>\n",
       "      <th>0</th>\n",
       "      <td>1</td>\n",
       "      <td>0.1</td>\n",
       "      <td>1.0</td>\n",
       "      <td>2019-01-01</td>\n",
       "      <td>A</td>\n",
       "    </tr>\n",
       "    <tr>\n",
       "      <th>4</th>\n",
       "      <td>5</td>\n",
       "      <td>0.5</td>\n",
       "      <td>5.0</td>\n",
       "      <td>2019-01-05</td>\n",
       "      <td>B</td>\n",
       "    </tr>\n",
       "    <tr>\n",
       "      <th>7</th>\n",
       "      <td>8</td>\n",
       "      <td>0.8</td>\n",
       "      <td>8.0</td>\n",
       "      <td>2019-01-08</td>\n",
       "      <td>B</td>\n",
       "    </tr>\n",
       "  </tbody>\n",
       "</table>\n",
       "</div>"
      ],
      "text/plain": [
       "   x1   x2   x3         x4 x5\n",
       "0   1  0.1  1.0 2019-01-01  A\n",
       "4   5  0.5  5.0 2019-01-05  B\n",
       "7   8  0.8  8.0 2019-01-08  B"
      ]
     },
     "execution_count": 115,
     "metadata": {},
     "output_type": "execute_result"
    }
   ],
   "source": [
    "##8\n",
    "\n",
    "# 결측 데이터 처리하기\n",
    "## 결측된 데이터가 많은 경우 해당 데이터 열 전체 삭제 가능\n",
    "### 결측 데이터가 일부인 경우 가장 그럴듯한 값으로 대체 가능 -> 이는 결측 데이터 대체(imputation)라고도 함\n",
    "\n",
    "#결측 데이터가 존재하는 행이나 열을 지우는 함수들\n",
    "df.dropna()"
   ]
  },
  {
   "cell_type": "code",
   "execution_count": 116,
   "metadata": {},
   "outputs": [
    {
     "data": {
      "text/html": [
       "<div>\n",
       "<style scoped>\n",
       "    .dataframe tbody tr th:only-of-type {\n",
       "        vertical-align: middle;\n",
       "    }\n",
       "\n",
       "    .dataframe tbody tr th {\n",
       "        vertical-align: top;\n",
       "    }\n",
       "\n",
       "    .dataframe thead th {\n",
       "        text-align: right;\n",
       "    }\n",
       "</style>\n",
       "<table border=\"1\" class=\"dataframe\">\n",
       "  <thead>\n",
       "    <tr style=\"text-align: right;\">\n",
       "      <th></th>\n",
       "      <th>x5</th>\n",
       "    </tr>\n",
       "  </thead>\n",
       "  <tbody>\n",
       "    <tr>\n",
       "      <th>0</th>\n",
       "      <td>A</td>\n",
       "    </tr>\n",
       "    <tr>\n",
       "      <th>1</th>\n",
       "      <td>B</td>\n",
       "    </tr>\n",
       "    <tr>\n",
       "      <th>2</th>\n",
       "      <td>C</td>\n",
       "    </tr>\n",
       "    <tr>\n",
       "      <th>3</th>\n",
       "      <td>A</td>\n",
       "    </tr>\n",
       "    <tr>\n",
       "      <th>4</th>\n",
       "      <td>B</td>\n",
       "    </tr>\n",
       "    <tr>\n",
       "      <th>5</th>\n",
       "      <td>C</td>\n",
       "    </tr>\n",
       "    <tr>\n",
       "      <th>6</th>\n",
       "      <td>A</td>\n",
       "    </tr>\n",
       "    <tr>\n",
       "      <th>7</th>\n",
       "      <td>B</td>\n",
       "    </tr>\n",
       "    <tr>\n",
       "      <th>8</th>\n",
       "      <td>C</td>\n",
       "    </tr>\n",
       "  </tbody>\n",
       "</table>\n",
       "</div>"
      ],
      "text/plain": [
       "  x5\n",
       "0  A\n",
       "1  B\n",
       "2  C\n",
       "3  A\n",
       "4  B\n",
       "5  C\n",
       "6  A\n",
       "7  B\n",
       "8  C"
      ]
     },
     "execution_count": 116,
     "metadata": {},
     "output_type": "execute_result"
    }
   ],
   "source": [
    "##9\n",
    "\n",
    "#axis=1로 설정하면 결측 데이터가 있는 열 제거\n",
    "df.dropna(axis=1)"
   ]
  },
  {
   "cell_type": "code",
   "execution_count": 117,
   "metadata": {},
   "outputs": [
    {
     "data": {
      "text/html": [
       "<div>\n",
       "<style scoped>\n",
       "    .dataframe tbody tr th:only-of-type {\n",
       "        vertical-align: middle;\n",
       "    }\n",
       "\n",
       "    .dataframe tbody tr th {\n",
       "        vertical-align: top;\n",
       "    }\n",
       "\n",
       "    .dataframe thead th {\n",
       "        text-align: right;\n",
       "    }\n",
       "</style>\n",
       "<table border=\"1\" class=\"dataframe\">\n",
       "  <thead>\n",
       "    <tr style=\"text-align: right;\">\n",
       "      <th></th>\n",
       "      <th>x1</th>\n",
       "      <th>x2</th>\n",
       "      <th>x3</th>\n",
       "      <th>x4</th>\n",
       "      <th>x5</th>\n",
       "    </tr>\n",
       "  </thead>\n",
       "  <tbody>\n",
       "    <tr>\n",
       "      <th>0</th>\n",
       "      <td>1</td>\n",
       "      <td>0.1</td>\n",
       "      <td>1.0</td>\n",
       "      <td>2019-01-01</td>\n",
       "      <td>A</td>\n",
       "    </tr>\n",
       "    <tr>\n",
       "      <th>4</th>\n",
       "      <td>5</td>\n",
       "      <td>0.5</td>\n",
       "      <td>5.0</td>\n",
       "      <td>2019-01-05</td>\n",
       "      <td>B</td>\n",
       "    </tr>\n",
       "    <tr>\n",
       "      <th>7</th>\n",
       "      <td>8</td>\n",
       "      <td>0.8</td>\n",
       "      <td>8.0</td>\n",
       "      <td>2019-01-08</td>\n",
       "      <td>B</td>\n",
       "    </tr>\n",
       "  </tbody>\n",
       "</table>\n",
       "</div>"
      ],
      "text/plain": [
       "   x1   x2   x3         x4 x5\n",
       "0   1  0.1  1.0 2019-01-01  A\n",
       "4   5  0.5  5.0 2019-01-05  B\n",
       "7   8  0.8  8.0 2019-01-08  B"
      ]
     },
     "execution_count": 117,
     "metadata": {},
     "output_type": "execute_result"
    }
   ],
   "source": [
    "##10\n",
    "\n",
    "#axis=0로 설정하면 결측 데이터가 있는 행 제거\n",
    "df.dropna(axis=0)"
   ]
  },
  {
   "cell_type": "code",
   "execution_count": 118,
   "metadata": {},
   "outputs": [
    {
     "data": {
      "text/html": [
       "<div>\n",
       "<style scoped>\n",
       "    .dataframe tbody tr th:only-of-type {\n",
       "        vertical-align: middle;\n",
       "    }\n",
       "\n",
       "    .dataframe tbody tr th {\n",
       "        vertical-align: top;\n",
       "    }\n",
       "\n",
       "    .dataframe thead th {\n",
       "        text-align: right;\n",
       "    }\n",
       "</style>\n",
       "<table border=\"1\" class=\"dataframe\">\n",
       "  <thead>\n",
       "    <tr style=\"text-align: right;\">\n",
       "      <th></th>\n",
       "      <th>x1</th>\n",
       "      <th>x4</th>\n",
       "      <th>x5</th>\n",
       "    </tr>\n",
       "  </thead>\n",
       "  <tbody>\n",
       "    <tr>\n",
       "      <th>0</th>\n",
       "      <td>1</td>\n",
       "      <td>2019-01-01</td>\n",
       "      <td>A</td>\n",
       "    </tr>\n",
       "    <tr>\n",
       "      <th>1</th>\n",
       "      <td>2</td>\n",
       "      <td>2019-01-02</td>\n",
       "      <td>B</td>\n",
       "    </tr>\n",
       "    <tr>\n",
       "      <th>2</th>\n",
       "      <td>3</td>\n",
       "      <td>2019-01-03</td>\n",
       "      <td>C</td>\n",
       "    </tr>\n",
       "    <tr>\n",
       "      <th>3</th>\n",
       "      <td>&lt;NA&gt;</td>\n",
       "      <td>2019-01-04</td>\n",
       "      <td>A</td>\n",
       "    </tr>\n",
       "    <tr>\n",
       "      <th>4</th>\n",
       "      <td>5</td>\n",
       "      <td>2019-01-05</td>\n",
       "      <td>B</td>\n",
       "    </tr>\n",
       "    <tr>\n",
       "      <th>5</th>\n",
       "      <td>&lt;NA&gt;</td>\n",
       "      <td>2019-01-06</td>\n",
       "      <td>C</td>\n",
       "    </tr>\n",
       "    <tr>\n",
       "      <th>6</th>\n",
       "      <td>7</td>\n",
       "      <td>NaT</td>\n",
       "      <td>A</td>\n",
       "    </tr>\n",
       "    <tr>\n",
       "      <th>7</th>\n",
       "      <td>8</td>\n",
       "      <td>2019-01-08</td>\n",
       "      <td>B</td>\n",
       "    </tr>\n",
       "    <tr>\n",
       "      <th>8</th>\n",
       "      <td>9</td>\n",
       "      <td>2019-01-09</td>\n",
       "      <td>C</td>\n",
       "    </tr>\n",
       "  </tbody>\n",
       "</table>\n",
       "</div>"
      ],
      "text/plain": [
       "     x1         x4 x5\n",
       "0     1 2019-01-01  A\n",
       "1     2 2019-01-02  B\n",
       "2     3 2019-01-03  C\n",
       "3  <NA> 2019-01-04  A\n",
       "4     5 2019-01-05  B\n",
       "5  <NA> 2019-01-06  C\n",
       "6     7        NaT  A\n",
       "7     8 2019-01-08  B\n",
       "8     9 2019-01-09  C"
      ]
     },
     "execution_count": 118,
     "metadata": {},
     "output_type": "execute_result"
    }
   ],
   "source": [
    "##11\n",
    "\n",
    "#thresh인수는 특정 갯수 이상의 비결측 데이터가 있는 행 또는 열만 남김\n",
    "df.dropna(thresh=7, axis=1)\n",
    "#최소 7개의 이상의 비결측 값이 있는 열만 남고, 나머지는 제거하라는 의미"
   ]
  },
  {
   "cell_type": "code",
   "execution_count": 119,
   "metadata": {},
   "outputs": [
    {
     "data": {
      "text/html": [
       "<div>\n",
       "<style scoped>\n",
       "    .dataframe tbody tr th:only-of-type {\n",
       "        vertical-align: middle;\n",
       "    }\n",
       "\n",
       "    .dataframe tbody tr th {\n",
       "        vertical-align: top;\n",
       "    }\n",
       "\n",
       "    .dataframe thead th {\n",
       "        text-align: right;\n",
       "    }\n",
       "</style>\n",
       "<table border=\"1\" class=\"dataframe\">\n",
       "  <thead>\n",
       "    <tr style=\"text-align: right;\">\n",
       "      <th></th>\n",
       "      <th>A</th>\n",
       "      <th>B</th>\n",
       "      <th>C</th>\n",
       "      <th>D</th>\n",
       "    </tr>\n",
       "  </thead>\n",
       "  <tbody>\n",
       "    <tr>\n",
       "      <th>0</th>\n",
       "      <td>1.0</td>\n",
       "      <td>NaN</td>\n",
       "      <td>1.0</td>\n",
       "      <td>1.0</td>\n",
       "    </tr>\n",
       "    <tr>\n",
       "      <th>1</th>\n",
       "      <td>2.0</td>\n",
       "      <td>2.0</td>\n",
       "      <td>2.0</td>\n",
       "      <td>NaN</td>\n",
       "    </tr>\n",
       "    <tr>\n",
       "      <th>2</th>\n",
       "      <td>NaN</td>\n",
       "      <td>3.0</td>\n",
       "      <td>3.0</td>\n",
       "      <td>3.0</td>\n",
       "    </tr>\n",
       "    <tr>\n",
       "      <th>3</th>\n",
       "      <td>4.0</td>\n",
       "      <td>4.0</td>\n",
       "      <td>NaN</td>\n",
       "      <td>NaN</td>\n",
       "    </tr>\n",
       "    <tr>\n",
       "      <th>4</th>\n",
       "      <td>5.0</td>\n",
       "      <td>5.0</td>\n",
       "      <td>NaN</td>\n",
       "      <td>5.0</td>\n",
       "    </tr>\n",
       "  </tbody>\n",
       "</table>\n",
       "</div>"
      ],
      "text/plain": [
       "     A    B    C    D\n",
       "0  1.0  NaN  1.0  1.0\n",
       "1  2.0  2.0  2.0  NaN\n",
       "2  NaN  3.0  3.0  3.0\n",
       "3  4.0  4.0  NaN  NaN\n",
       "4  5.0  5.0  NaN  5.0"
      ]
     },
     "execution_count": 119,
     "metadata": {},
     "output_type": "execute_result"
    }
   ],
   "source": [
    "#11-1 thresh 개념 추가 설명\n",
    "#thresh 매개변수는 \"임계값\"을 의미하며, 이는 어떤 조건을 충족하는 데이터를 남길지 결정하는 데 사용\n",
    "\n",
    "import pandas as pd\n",
    "import numpy as np\n",
    "\n",
    "data = {'A': [1, 2, np.nan, 4, 5],\n",
    "        'B': [np.nan, 2, 3, 4, 5],\n",
    "        'C': [1, 2, 3, np.nan, np.nan],\n",
    "        'D': [1, np.nan, 3, np.nan, 5]}\n",
    "\n",
    "df = pd.DataFrame(data)\n",
    "df"
   ]
  },
  {
   "cell_type": "code",
   "execution_count": 120,
   "metadata": {},
   "outputs": [
    {
     "data": {
      "text/html": [
       "<div>\n",
       "<style scoped>\n",
       "    .dataframe tbody tr th:only-of-type {\n",
       "        vertical-align: middle;\n",
       "    }\n",
       "\n",
       "    .dataframe tbody tr th {\n",
       "        vertical-align: top;\n",
       "    }\n",
       "\n",
       "    .dataframe thead th {\n",
       "        text-align: right;\n",
       "    }\n",
       "</style>\n",
       "<table border=\"1\" class=\"dataframe\">\n",
       "  <thead>\n",
       "    <tr style=\"text-align: right;\">\n",
       "      <th></th>\n",
       "      <th>A</th>\n",
       "      <th>B</th>\n",
       "      <th>C</th>\n",
       "      <th>D</th>\n",
       "    </tr>\n",
       "  </thead>\n",
       "  <tbody>\n",
       "    <tr>\n",
       "      <th>0</th>\n",
       "      <td>1.0</td>\n",
       "      <td>NaN</td>\n",
       "      <td>1.0</td>\n",
       "      <td>1.0</td>\n",
       "    </tr>\n",
       "    <tr>\n",
       "      <th>1</th>\n",
       "      <td>2.0</td>\n",
       "      <td>2.0</td>\n",
       "      <td>2.0</td>\n",
       "      <td>NaN</td>\n",
       "    </tr>\n",
       "    <tr>\n",
       "      <th>2</th>\n",
       "      <td>NaN</td>\n",
       "      <td>3.0</td>\n",
       "      <td>3.0</td>\n",
       "      <td>3.0</td>\n",
       "    </tr>\n",
       "    <tr>\n",
       "      <th>4</th>\n",
       "      <td>5.0</td>\n",
       "      <td>5.0</td>\n",
       "      <td>NaN</td>\n",
       "      <td>5.0</td>\n",
       "    </tr>\n",
       "  </tbody>\n",
       "</table>\n",
       "</div>"
      ],
      "text/plain": [
       "     A    B    C    D\n",
       "0  1.0  NaN  1.0  1.0\n",
       "1  2.0  2.0  2.0  NaN\n",
       "2  NaN  3.0  3.0  3.0\n",
       "4  5.0  5.0  NaN  5.0"
      ]
     },
     "execution_count": 120,
     "metadata": {},
     "output_type": "execute_result"
    }
   ],
   "source": [
    "df_thresh = df.dropna(thresh=3)\n",
    "\n",
    "df_thresh"
   ]
  },
  {
   "cell_type": "markdown",
   "metadata": {},
   "source": [
    "## sklearn.impute 패키지(결측 데이터 대체)\n",
    "\n",
    "- 결측 데이터 대체하는 방법\n",
    "\n",
    "- SimpleImputer 클래스에 strategy인수에 따라 대체 하는 방법이 달라진다!\n",
    "\n",
    "-> 'mean'= 평균값\n",
    "\n",
    "-> 'median'= 중앙값\n",
    "\n",
    "-> 'most_frequent'=최빈값\n",
    "\n",
    "\n",
    "*그럼, strategy 인수 선택은 어떤 기준으로 하나?\n",
    "\n",
    "1) 데이터가 실수 연속값인 경우 평균,중앙값 사용\n",
    "\n",
    "1-1) 값의 분포가 대칭적이면 평균이 좋고, 심하게 비대칭이면 중앙값이 적당\n",
    "\n",
    "2) 데이터가 범주값이거나 정수값인 경우 최빈값 사용\n",
    "\n",
    "- 이후, fit_transform 메서드를 통해 대체값이 채워진 데이터프레임 생성"
   ]
  },
  {
   "cell_type": "code",
   "execution_count": 121,
   "metadata": {},
   "outputs": [
    {
     "data": {
      "text/html": [
       "<div>\n",
       "<style scoped>\n",
       "    .dataframe tbody tr th:only-of-type {\n",
       "        vertical-align: middle;\n",
       "    }\n",
       "\n",
       "    .dataframe tbody tr th {\n",
       "        vertical-align: top;\n",
       "    }\n",
       "\n",
       "    .dataframe thead th {\n",
       "        text-align: right;\n",
       "    }\n",
       "</style>\n",
       "<table border=\"1\" class=\"dataframe\">\n",
       "  <thead>\n",
       "    <tr style=\"text-align: right;\">\n",
       "      <th></th>\n",
       "      <th>A</th>\n",
       "      <th>B</th>\n",
       "      <th>C</th>\n",
       "      <th>D</th>\n",
       "    </tr>\n",
       "  </thead>\n",
       "  <tbody>\n",
       "    <tr>\n",
       "      <th>0</th>\n",
       "      <td>1.0</td>\n",
       "      <td>2.0</td>\n",
       "      <td>1.0</td>\n",
       "      <td>1.0</td>\n",
       "    </tr>\n",
       "    <tr>\n",
       "      <th>1</th>\n",
       "      <td>2.0</td>\n",
       "      <td>2.0</td>\n",
       "      <td>2.0</td>\n",
       "      <td>1.0</td>\n",
       "    </tr>\n",
       "    <tr>\n",
       "      <th>2</th>\n",
       "      <td>1.0</td>\n",
       "      <td>3.0</td>\n",
       "      <td>3.0</td>\n",
       "      <td>3.0</td>\n",
       "    </tr>\n",
       "    <tr>\n",
       "      <th>3</th>\n",
       "      <td>4.0</td>\n",
       "      <td>4.0</td>\n",
       "      <td>1.0</td>\n",
       "      <td>1.0</td>\n",
       "    </tr>\n",
       "    <tr>\n",
       "      <th>4</th>\n",
       "      <td>5.0</td>\n",
       "      <td>5.0</td>\n",
       "      <td>1.0</td>\n",
       "      <td>5.0</td>\n",
       "    </tr>\n",
       "  </tbody>\n",
       "</table>\n",
       "</div>"
      ],
      "text/plain": [
       "     A    B    C    D\n",
       "0  1.0  2.0  1.0  1.0\n",
       "1  2.0  2.0  2.0  1.0\n",
       "2  1.0  3.0  3.0  3.0\n",
       "3  4.0  4.0  1.0  1.0\n",
       "4  5.0  5.0  1.0  5.0"
      ]
     },
     "execution_count": 121,
     "metadata": {},
     "output_type": "execute_result"
    }
   ],
   "source": [
    "#12\n",
    "\n",
    "# sklearn.impute 패키지 예시\n",
    "from sklearn.impute import SimpleImputer\n",
    "\n",
    "imputer = SimpleImputer(strategy=\"most_frequent\") #최빈값으로 대체\n",
    "df = pd.DataFrame(imputer.fit_transform(df), columns=df.columns)\n",
    "df"
   ]
  },
  {
   "cell_type": "markdown",
   "metadata": {},
   "source": [
    "## patsy 패키지(데이터 선택, 변환, 추가, 스케일링)"
   ]
  },
  {
   "cell_type": "markdown",
   "metadata": {},
   "source": [
    "- 데이터프레임에서 원하는 데이터만 선택 or 새로운 데이터 조합을 생성해야 한다\n",
    "\n",
    "--> 왜? 냐하면~ \"데이터 품질 향상\"을 위해서!\n",
    "\n",
    "-> 데이터가 무조건 크고 많다고 좋은 것은 아님. 필요한 데이터가 있는 것이 중요.\n",
    "\n",
    "따라서, 데이터를 축소하거나 변환하는 것은 데이터를 더 이해하기 쉽게 해주고 인사이트 내기도 좋다!"
   ]
  },
  {
   "cell_type": "code",
   "execution_count": 122,
   "metadata": {},
   "outputs": [
    {
     "name": "stdout",
     "output_type": "stream",
     "text": [
      "Requirement already satisfied: patsy in c:\\users\\jyjj0\\appdata\\local\\programs\\python\\python311\\lib\\site-packages (0.5.3)\n",
      "Requirement already satisfied: six in c:\\users\\jyjj0\\appdata\\local\\programs\\python\\python311\\lib\\site-packages (from patsy) (1.16.0)\n",
      "Requirement already satisfied: numpy>=1.4 in c:\\users\\jyjj0\\appdata\\local\\programs\\python\\python311\\lib\\site-packages (from patsy) (1.24.2)\n"
     ]
    },
    {
     "name": "stderr",
     "output_type": "stream",
     "text": [
      "\n",
      "[notice] A new release of pip is available: 23.2.1 -> 23.3.1\n",
      "[notice] To update, run: python.exe -m pip install --upgrade pip\n"
     ]
    },
    {
     "data": {
      "text/html": [
       "<div>\n",
       "<style scoped>\n",
       "    .dataframe tbody tr th:only-of-type {\n",
       "        vertical-align: middle;\n",
       "    }\n",
       "\n",
       "    .dataframe tbody tr th {\n",
       "        vertical-align: top;\n",
       "    }\n",
       "\n",
       "    .dataframe thead th {\n",
       "        text-align: right;\n",
       "    }\n",
       "</style>\n",
       "<table border=\"1\" class=\"dataframe\">\n",
       "  <thead>\n",
       "    <tr style=\"text-align: right;\">\n",
       "      <th></th>\n",
       "      <th>x1</th>\n",
       "      <th>x2</th>\n",
       "      <th>x3</th>\n",
       "      <th>x4</th>\n",
       "      <th>x5</th>\n",
       "    </tr>\n",
       "  </thead>\n",
       "  <tbody>\n",
       "    <tr>\n",
       "      <th>0</th>\n",
       "      <td>1.764052</td>\n",
       "      <td>-0.977278</td>\n",
       "      <td>0.144044</td>\n",
       "      <td>0.333674</td>\n",
       "      <td>-2.552990</td>\n",
       "    </tr>\n",
       "    <tr>\n",
       "      <th>1</th>\n",
       "      <td>0.400157</td>\n",
       "      <td>0.950088</td>\n",
       "      <td>1.454274</td>\n",
       "      <td>1.494079</td>\n",
       "      <td>0.653619</td>\n",
       "    </tr>\n",
       "    <tr>\n",
       "      <th>2</th>\n",
       "      <td>0.978738</td>\n",
       "      <td>-0.151357</td>\n",
       "      <td>0.761038</td>\n",
       "      <td>-0.205158</td>\n",
       "      <td>0.864436</td>\n",
       "    </tr>\n",
       "    <tr>\n",
       "      <th>3</th>\n",
       "      <td>2.240893</td>\n",
       "      <td>-0.103219</td>\n",
       "      <td>0.121675</td>\n",
       "      <td>0.313068</td>\n",
       "      <td>-0.742165</td>\n",
       "    </tr>\n",
       "    <tr>\n",
       "      <th>4</th>\n",
       "      <td>1.867558</td>\n",
       "      <td>0.410599</td>\n",
       "      <td>0.443863</td>\n",
       "      <td>-0.854096</td>\n",
       "      <td>2.269755</td>\n",
       "    </tr>\n",
       "  </tbody>\n",
       "</table>\n",
       "</div>"
      ],
      "text/plain": [
       "         x1        x2        x3        x4        x5\n",
       "0  1.764052 -0.977278  0.144044  0.333674 -2.552990\n",
       "1  0.400157  0.950088  1.454274  1.494079  0.653619\n",
       "2  0.978738 -0.151357  0.761038 -0.205158  0.864436\n",
       "3  2.240893 -0.103219  0.121675  0.313068 -0.742165\n",
       "4  1.867558  0.410599  0.443863 -0.854096  2.269755"
      ]
     },
     "execution_count": 122,
     "metadata": {},
     "output_type": "execute_result"
    }
   ],
   "source": [
    "#13\n",
    "# demo_data 함수 사용 => x로 시작하는 변수에 대해 임의의 실수 데이터를 생성\n",
    "\n",
    "!pip install patsy\n",
    "\n",
    "from patsy import demo_data\n",
    "\n",
    "df = pd.DataFrame(demo_data(\"x1\", \"x2\", \"x3\", \"x4\", \"x5\"))\n",
    "df"
   ]
  },
  {
   "cell_type": "markdown",
   "metadata": {},
   "source": [
    "#14\n",
    "- 데이터 분석 시작할때, 다양한 데이터를 하나의 데이터프레임에 넣고 시작하는 경우가 많음\n",
    "- patsy 패키지가 제공하는 dmatrx() 함수를 사용하면...\n",
    "- 데이터 프레임에 상수항을 추가 or 원하는 데이터만 선택 or 변형 가능\n",
    "\n",
    "- dmatrx() 함수에 모형 정의 문자열 formula와 원 데이터를 담은 데이터프레임 data을 입력 => formula에서 지정한 대로 변환된 데이터 data_transformed를 출력"
   ]
  },
  {
   "cell_type": "code",
   "execution_count": 123,
   "metadata": {},
   "outputs": [
    {
     "ename": "NameError",
     "evalue": "name 'formula' is not defined",
     "output_type": "error",
     "traceback": [
      "\u001b[1;31m---------------------------------------------------------------------------\u001b[0m",
      "\u001b[1;31mNameError\u001b[0m                                 Traceback (most recent call last)",
      "\u001b[1;32mc:\\Users\\jyjj0\\OneDrive\\바탕 화면\\Algorithm Study\\231122발제\\Datapreprocessing[데이터 전처리]_1122_조윤주.ipynb 셀 24\u001b[0m line \u001b[0;36m1\n\u001b[1;32m----> <a href='vscode-notebook-cell:/c%3A/Users/jyjj0/OneDrive/%EB%B0%94%ED%83%95%20%ED%99%94%EB%A9%B4/Algorithm%20Study/231122%EB%B0%9C%EC%A0%9C/Datapreprocessing%5B%EB%8D%B0%EC%9D%B4%ED%84%B0%20%EC%A0%84%EC%B2%98%EB%A6%AC%5D_1122_%EC%A1%B0%EC%9C%A4%EC%A3%BC.ipynb#Y124sZmlsZQ%3D%3D?line=0'>1</a>\u001b[0m data_transformed \u001b[39m=\u001b[39m dmatrix(formula, data)\n",
      "\u001b[1;31mNameError\u001b[0m: name 'formula' is not defined"
     ]
    }
   ],
   "source": [
    "data_transformed = dmatrix(formula, data)"
   ]
  },
  {
   "cell_type": "code",
   "execution_count": null,
   "metadata": {},
   "outputs": [
    {
     "ename": "NameError",
     "evalue": "name 'dmatrix' is not defined",
     "output_type": "error",
     "traceback": [
      "\u001b[1;31m---------------------------------------------------------------------------\u001b[0m",
      "\u001b[1;31mNameError\u001b[0m                                 Traceback (most recent call last)",
      "\u001b[1;32mc:\\Users\\jyjj0\\OneDrive\\바탕 화면\\Algorithm Study\\231122발제\\Datapreprocessing[데이터 전처리]_1122_조윤주.ipynb 셀 24\u001b[0m line \u001b[0;36m8\n\u001b[0;32m      <a href='vscode-notebook-cell:/c%3A/Users/jyjj0/OneDrive/%EB%B0%94%ED%83%95%20%ED%99%94%EB%A9%B4/Algorithm%20Study/231122%EB%B0%9C%EC%A0%9C/Datapreprocessing%5B%EB%8D%B0%EC%9D%B4%ED%84%B0%20%EC%A0%84%EC%B2%98%EB%A6%AC%5D_1122_%EC%A1%B0%EC%9C%A4%EC%A3%BC.ipynb#X32sZmlsZQ%3D%3D?line=0'>1</a>\u001b[0m \u001b[39m#14\u001b[39;00m\n\u001b[0;32m      <a href='vscode-notebook-cell:/c%3A/Users/jyjj0/OneDrive/%EB%B0%94%ED%83%95%20%ED%99%94%EB%A9%B4/Algorithm%20Study/231122%EB%B0%9C%EC%A0%9C/Datapreprocessing%5B%EB%8D%B0%EC%9D%B4%ED%84%B0%20%EC%A0%84%EC%B2%98%EB%A6%AC%5D_1122_%EC%A1%B0%EC%9C%A4%EC%A3%BC.ipynb#X32sZmlsZQ%3D%3D?line=1'>2</a>\u001b[0m \u001b[39m# 데이터 분석 시작할때, 다양한 데이터를 하나의 데이터프레임에 넣고 시작하는 경우가 많음\u001b[39;00m\n\u001b[0;32m      <a href='vscode-notebook-cell:/c%3A/Users/jyjj0/OneDrive/%EB%B0%94%ED%83%95%20%ED%99%94%EB%A9%B4/Algorithm%20Study/231122%EB%B0%9C%EC%A0%9C/Datapreprocessing%5B%EB%8D%B0%EC%9D%B4%ED%84%B0%20%EC%A0%84%EC%B2%98%EB%A6%AC%5D_1122_%EC%A1%B0%EC%9C%A4%EC%A3%BC.ipynb#X32sZmlsZQ%3D%3D?line=2'>3</a>\u001b[0m \u001b[39m# patsy 패키지가 제공하는 dmatrx() 함수를 사용하면...\u001b[39;00m\n\u001b[0;32m      <a href='vscode-notebook-cell:/c%3A/Users/jyjj0/OneDrive/%EB%B0%94%ED%83%95%20%ED%99%94%EB%A9%B4/Algorithm%20Study/231122%EB%B0%9C%EC%A0%9C/Datapreprocessing%5B%EB%8D%B0%EC%9D%B4%ED%84%B0%20%EC%A0%84%EC%B2%98%EB%A6%AC%5D_1122_%EC%A1%B0%EC%9C%A4%EC%A3%BC.ipynb#X32sZmlsZQ%3D%3D?line=3'>4</a>\u001b[0m \u001b[39m# 데이터 프레임에 상수항을 추가 or 원하는 데이터만 선택 or 변형 가능\u001b[39;00m\n\u001b[0;32m      <a href='vscode-notebook-cell:/c%3A/Users/jyjj0/OneDrive/%EB%B0%94%ED%83%95%20%ED%99%94%EB%A9%B4/Algorithm%20Study/231122%EB%B0%9C%EC%A0%9C/Datapreprocessing%5B%EB%8D%B0%EC%9D%B4%ED%84%B0%20%EC%A0%84%EC%B2%98%EB%A6%AC%5D_1122_%EC%A1%B0%EC%9C%A4%EC%A3%BC.ipynb#X32sZmlsZQ%3D%3D?line=4'>5</a>\u001b[0m \n\u001b[0;32m      <a href='vscode-notebook-cell:/c%3A/Users/jyjj0/OneDrive/%EB%B0%94%ED%83%95%20%ED%99%94%EB%A9%B4/Algorithm%20Study/231122%EB%B0%9C%EC%A0%9C/Datapreprocessing%5B%EB%8D%B0%EC%9D%B4%ED%84%B0%20%EC%A0%84%EC%B2%98%EB%A6%AC%5D_1122_%EC%A1%B0%EC%9C%A4%EC%A3%BC.ipynb#X32sZmlsZQ%3D%3D?line=5'>6</a>\u001b[0m \u001b[39m# dmatrx() 함수에 모형 정의 문자열 formula와 원 데이터를 담은 데이터프레임 data을 입력 => formula에서 지정한 대로 변환된 데이터 data_transformed를 출력\u001b[39;00m\n\u001b[1;32m----> <a href='vscode-notebook-cell:/c%3A/Users/jyjj0/OneDrive/%EB%B0%94%ED%83%95%20%ED%99%94%EB%A9%B4/Algorithm%20Study/231122%EB%B0%9C%EC%A0%9C/Datapreprocessing%5B%EB%8D%B0%EC%9D%B4%ED%84%B0%20%EC%A0%84%EC%B2%98%EB%A6%AC%5D_1122_%EC%A1%B0%EC%9C%A4%EC%A3%BC.ipynb#X32sZmlsZQ%3D%3D?line=7'>8</a>\u001b[0m data_transformed \u001b[39m=\u001b[39m dmatrix(formula, data)\n\u001b[0;32m     <a href='vscode-notebook-cell:/c%3A/Users/jyjj0/OneDrive/%EB%B0%94%ED%83%95%20%ED%99%94%EB%A9%B4/Algorithm%20Study/231122%EB%B0%9C%EC%A0%9C/Datapreprocessing%5B%EB%8D%B0%EC%9D%B4%ED%84%B0%20%EC%A0%84%EC%B2%98%EB%A6%AC%5D_1122_%EC%A1%B0%EC%9C%A4%EC%A3%BC.ipynb#X32sZmlsZQ%3D%3D?line=9'>10</a>\u001b[0m \u001b[39mfrom\u001b[39;00m \u001b[39mpatsy\u001b[39;00m \u001b[39mimport\u001b[39;00m dmatrix \n\u001b[0;32m     <a href='vscode-notebook-cell:/c%3A/Users/jyjj0/OneDrive/%EB%B0%94%ED%83%95%20%ED%99%94%EB%A9%B4/Algorithm%20Study/231122%EB%B0%9C%EC%A0%9C/Datapreprocessing%5B%EB%8D%B0%EC%9D%B4%ED%84%B0%20%EC%A0%84%EC%B2%98%EB%A6%AC%5D_1122_%EC%A1%B0%EC%9C%A4%EC%A3%BC.ipynb#X32sZmlsZQ%3D%3D?line=11'>12</a>\u001b[0m dmatrix(\u001b[39m\"\u001b[39m\u001b[39mx1 + 0\u001b[39m\u001b[39m\"\u001b[39m, data\u001b[39m=\u001b[39mdf)\n",
      "\u001b[1;31mNameError\u001b[0m: name 'dmatrix' is not defined"
     ]
    }
   ],
   "source": [
    "#15\n",
    "#formula는 데이터 열 이름 기반으로 구성된 문자열\n",
    "#선택하고자 하는 데이터 열 이름을 +로 연결한 formula 문자열을 입려하면 자동으로 해당 데이터만 뽑아줌\n",
    "\n",
    "#예를 들어 전체 데이터 중 x1만을 뽑고 싶으면 formula 문자열에 x1 + 0이라고 입력\n",
    "\n",
    "from patsy import dmatrix \n",
    "\n",
    "dmatrix(\"x1 + 0\", data=df)"
   ]
  },
  {
   "cell_type": "code",
   "execution_count": null,
   "metadata": {},
   "outputs": [
    {
     "data": {
      "text/plain": [
       "DesignMatrix with shape (5, 3)\n",
       "       x1        x2       x3\n",
       "  1.76405  -0.97728  0.14404\n",
       "  0.40016   0.95009  1.45427\n",
       "  0.97874  -0.15136  0.76104\n",
       "  2.24089  -0.10322  0.12168\n",
       "  1.86756   0.41060  0.44386\n",
       "  Terms:\n",
       "    'x1' (column 0)\n",
       "    'x2' (column 1)\n",
       "    'x3' (column 2)"
      ]
     },
     "execution_count": 71,
     "metadata": {},
     "output_type": "execute_result"
    }
   ],
   "source": [
    "#15\n",
    "#전체 데이터 중 x1, x2, x3를 뽑고 싶으면 formula 문자열에 x1 + x2 + x3 + 0이라고 입력\n",
    "\n",
    "dmatrix(\"x1 + x2 + x3 + 0\", data=df)"
   ]
  },
  {
   "cell_type": "code",
   "execution_count": null,
   "metadata": {},
   "outputs": [
    {
     "data": {
      "text/plain": [
       "DesignMatrix with shape (5, 4)\n",
       "  Intercept       x1        x2       x3\n",
       "          1  1.76405  -0.97728  0.14404\n",
       "          1  0.40016   0.95009  1.45427\n",
       "          1  0.97874  -0.15136  0.76104\n",
       "          1  2.24089  -0.10322  0.12168\n",
       "          1  1.86756   0.41060  0.44386\n",
       "  Terms:\n",
       "    'Intercept' (column 0)\n",
       "    'x1' (column 1)\n",
       "    'x2' (column 2)\n",
       "    'x3' (column 3)"
      ]
     },
     "execution_count": 72,
     "metadata": {},
     "output_type": "execute_result"
    }
   ],
   "source": [
    "#16\n",
    "#+ 0은 1로 구성된 상수항을 넣지 말라는 뜻이다. 만약 이 부분이 없으면 patsy는 자동으로 가장 앞에 Intercept란 이름의 상수항 데이터를 추가\n",
    "\n",
    "dmatrix(\"x1 + x2 + x3\", data=df)"
   ]
  },
  {
   "cell_type": "code",
   "execution_count": null,
   "metadata": {},
   "outputs": [
    {
     "data": {
      "text/plain": [
       "DesignMatrix with shape (5, 3)\n",
       "       x1        x2       x3\n",
       "  1.76405  -0.97728  0.14404\n",
       "  0.40016   0.95009  1.45427\n",
       "  0.97874  -0.15136  0.76104\n",
       "  2.24089  -0.10322  0.12168\n",
       "  1.86756   0.41060  0.44386\n",
       "  Terms:\n",
       "    'x1' (column 0)\n",
       "    'x2' (column 1)\n",
       "    'x3' (column 2)"
      ]
     },
     "execution_count": 73,
     "metadata": {},
     "output_type": "execute_result"
    }
   ],
   "source": [
    "#17\n",
    "#- 1도 + 0과 같은 뜻\n",
    "dmatrix(\"x1 + x2 + x3 - 1\", data=df)"
   ]
  },
  {
   "cell_type": "code",
   "execution_count": null,
   "metadata": {},
   "outputs": [
    {
     "data": {
      "text/plain": [
       "DesignMatrix with shape (5, 3)\n",
       "  Intercept       x1  np.log(np.abs(x2))\n",
       "          1  1.76405            -0.02298\n",
       "          1  0.40016            -0.05120\n",
       "          1  0.97874            -1.88811\n",
       "          1  2.24089            -2.27090\n",
       "          1  1.86756            -0.89014\n",
       "  Terms:\n",
       "    'Intercept' (column 0)\n",
       "    'x1' (column 1)\n",
       "    'np.log(np.abs(x2))' (column 2)"
      ]
     },
     "execution_count": 74,
     "metadata": {},
     "output_type": "execute_result"
    }
   ],
   "source": [
    "#18\n",
    "# dmatrix() 함수는 변수를 어떤 함수에 넣어서 다른 갑으로 만드는 수학 변환(transform)도 가능\n",
    "\n",
    "dmatrix(\"x1 + np.log(np.abs(x2))\", df)"
   ]
  },
  {
   "cell_type": "code",
   "execution_count": null,
   "metadata": {},
   "outputs": [
    {
     "data": {
      "text/plain": [
       "DesignMatrix with shape (5, 2)\n",
       "  Intercept  ten_times(x1)\n",
       "          1       17.64052\n",
       "          1        4.00157\n",
       "          1        9.78738\n",
       "          1       22.40893\n",
       "          1       18.67558\n",
       "  Terms:\n",
       "    'Intercept' (column 0)\n",
       "    'ten_times(x1)' (column 1)"
      ]
     },
     "execution_count": 69,
     "metadata": {},
     "output_type": "execute_result"
    }
   ],
   "source": [
    "#19\n",
    "#numpy 함수 뿐 아니라 사용자 정의 함수도 사용\n",
    "\n",
    "def ten_times(x):\n",
    "    return 10 * x\n",
    "\n",
    "dmatrix(\"ten_times(x1)\", df)"
   ]
  },
  {
   "cell_type": "code",
   "execution_count": null,
   "metadata": {},
   "outputs": [
    {
     "data": {
      "text/plain": [
       "DesignMatrix with shape (5, 3)\n",
       "       x1        x2     x1:x2\n",
       "  1.76405  -0.97728  -1.72397\n",
       "  0.40016   0.95009   0.38018\n",
       "  0.97874  -0.15136  -0.14814\n",
       "  2.24089  -0.10322  -0.23130\n",
       "  1.86756   0.41060   0.76682\n",
       "  Terms:\n",
       "    'x1' (column 0)\n",
       "    'x2' (column 1)\n",
       "    'x1:x2' (column 2)"
      ]
     },
     "execution_count": 75,
     "metadata": {},
     "output_type": "execute_result"
    }
   ],
   "source": [
    "#20\n",
    "#기존의 데이터를 조합 연산하여 새로운 데이터를 만드는 것도 가능\n",
    "## 특히 두 변수를 곱해서 만들어지는 새로운 변수를 **상호작용(interaction)**이라고 한다. \n",
    "### 상호작용은 : 기호를 사용하여 만들어진다.\n",
    "\n",
    "dmatrix(\"x1 + x2 + x1:x2 + 0\", df)"
   ]
  },
  {
   "cell_type": "code",
   "execution_count": null,
   "metadata": {},
   "outputs": [
    {
     "data": {
      "text/plain": [
       "DesignMatrix with shape (5, 3)\n",
       "       x1        x2     x1:x2\n",
       "  1.76405  -0.97728  -1.72397\n",
       "  0.40016   0.95009   0.38018\n",
       "  0.97874  -0.15136  -0.14814\n",
       "  2.24089  -0.10322  -0.23130\n",
       "  1.86756   0.41060   0.76682\n",
       "  Terms:\n",
       "    'x1' (column 0)\n",
       "    'x2' (column 1)\n",
       "    'x1:x2' (column 2)"
      ]
     },
     "execution_count": 76,
     "metadata": {},
     "output_type": "execute_result"
    }
   ],
   "source": [
    "#21\n",
    "# 두 변수와 상호작용을 한꺼번에 표시할 때는 *를 사용한다. 따라서 다음 수식은 바로 전의 수식과 동일\n",
    "\n",
    "dmatrix(\"x1 * x2 + 0\", df)"
   ]
  },
  {
   "cell_type": "code",
   "execution_count": null,
   "metadata": {},
   "outputs": [
    {
     "data": {
      "text/plain": [
       "DesignMatrix with shape (5, 3)\n",
       "       x1        x2  I(x1 + x2)\n",
       "  1.76405  -0.97728     0.78677\n",
       "  0.40016   0.95009     1.35025\n",
       "  0.97874  -0.15136     0.82738\n",
       "  2.24089  -0.10322     2.13767\n",
       "  1.86756   0.41060     2.27816\n",
       "  Terms:\n",
       "    'x1' (column 0)\n",
       "    'x2' (column 1)\n",
       "    'I(x1 + x2)' (column 2)"
      ]
     },
     "execution_count": 77,
     "metadata": {},
     "output_type": "execute_result"
    }
   ],
   "source": [
    "#21\n",
    "#상호작용을 제외한 경우에는 I()라는 연산자를 사용하여 연산과정을 명시해야 함\n",
    "#예를 들어 두 변수 x1과 x2를 더하여 새로운 데이터를 만들고 싶다면 다음과 같이 한다.\n",
    "\n",
    "dmatrix(\"x1 + x2 + I(x1 + x2) + 0\", df)"
   ]
  },
  {
   "cell_type": "markdown",
   "metadata": {},
   "source": [
    "#22\n",
    "\n",
    "- 선형회귀분석을 할 때는 조건수(condition number)의 영향으로 인해\n",
    "- 데이터의 평균을 0으로, 표준편차를 1로 만드는 스케일링(scaling) 작업을 하는 것이 분석 결과의 품질을 높일 수 있음\n",
    "- patsy 패키지는 스케일링을 위한 함수도 제공\n",
    "\n",
    "1) center(): 평균을 0으로 스케일링\n",
    "\n",
    "2) standardize(): 평균을 0으로하고 표준편차를 1로 스케일링\n",
    "\n",
    "3) scale(): standardize() 과 같음"
   ]
  },
  {
   "cell_type": "code",
   "execution_count": null,
   "metadata": {},
   "outputs": [
    {
     "data": {
      "text/plain": [
       "DesignMatrix with shape (5, 1)\n",
       "  center(x1)\n",
       "     0.31377\n",
       "    -1.05012\n",
       "    -0.47154\n",
       "     0.79061\n",
       "     0.41728\n",
       "  Terms:\n",
       "    'center(x1)' (column 0)"
      ]
     },
     "execution_count": 80,
     "metadata": {},
     "output_type": "execute_result"
    }
   ],
   "source": [
    "#23\n",
    "#예를 들어 x1 데이터의 평균을 제거하는 변환은 다음과 같다.\n",
    "\n",
    "dm = dmatrix(\"center(x1) + 0\", df)\n",
    "dm"
   ]
  },
  {
   "cell_type": "code",
   "execution_count": null,
   "metadata": {},
   "outputs": [
    {
     "data": {
      "text/plain": [
       "0    0.313773\n",
       "1   -1.050123\n",
       "2   -0.471542\n",
       "3    0.790613\n",
       "4    0.417278\n",
       "Name: x1, dtype: float64"
      ]
     },
     "execution_count": 81,
     "metadata": {},
     "output_type": "execute_result"
    }
   ],
   "source": [
    "#24\n",
    "#이 변환 연산은 다음과 같이 x1 데이터에서 x1의 평균을 빼는 것과 같다.\n",
    "\n",
    "df.x1 - np.mean(df.x1)"
   ]
  },
  {
   "cell_type": "code",
   "execution_count": null,
   "metadata": {},
   "outputs": [
    {
     "ename": "NameError",
     "evalue": "name 'dm' is not defined",
     "output_type": "error",
     "traceback": [
      "\u001b[1;31m---------------------------------------------------------------------------\u001b[0m",
      "\u001b[1;31mNameError\u001b[0m                                 Traceback (most recent call last)",
      "\u001b[1;32mc:\\Users\\jyjj0\\OneDrive\\바탕 화면\\Algorithm Study\\231122발제\\Datapreprocessing[데이터 전처리]_1122_조윤주.ipynb 셀 36\u001b[0m line \u001b[0;36m4\n\u001b[0;32m      <a href='vscode-notebook-cell:/c%3A/Users/jyjj0/OneDrive/%EB%B0%94%ED%83%95%20%ED%99%94%EB%A9%B4/Algorithm%20Study/231122%EB%B0%9C%EC%A0%9C/Datapreprocessing%5B%EB%8D%B0%EC%9D%B4%ED%84%B0%20%EC%A0%84%EC%B2%98%EB%A6%AC%5D_1122_%EC%A1%B0%EC%9C%A4%EC%A3%BC.ipynb#X50sZmlsZQ%3D%3D?line=0'>1</a>\u001b[0m \u001b[39m#25\u001b[39;00m\n\u001b[0;32m      <a href='vscode-notebook-cell:/c%3A/Users/jyjj0/OneDrive/%EB%B0%94%ED%83%95%20%ED%99%94%EB%A9%B4/Algorithm%20Study/231122%EB%B0%9C%EC%A0%9C/Datapreprocessing%5B%EB%8D%B0%EC%9D%B4%ED%84%B0%20%EC%A0%84%EC%B2%98%EB%A6%AC%5D_1122_%EC%A1%B0%EC%9C%A4%EC%A3%BC.ipynb#X50sZmlsZQ%3D%3D?line=1'>2</a>\u001b[0m \u001b[39m#이 때 평균값은 design_info라는 속성 내부에 저장됨\u001b[39;00m\n\u001b[1;32m----> <a href='vscode-notebook-cell:/c%3A/Users/jyjj0/OneDrive/%EB%B0%94%ED%83%95%20%ED%99%94%EB%A9%B4/Algorithm%20Study/231122%EB%B0%9C%EC%A0%9C/Datapreprocessing%5B%EB%8D%B0%EC%9D%B4%ED%84%B0%20%EC%A0%84%EC%B2%98%EB%A6%AC%5D_1122_%EC%A1%B0%EC%9C%A4%EC%A3%BC.ipynb#X50sZmlsZQ%3D%3D?line=3'>4</a>\u001b[0m dm\u001b[39m.\u001b[39mdesign_info\u001b[39m.\u001b[39mfactor_infos\n\u001b[0;32m      <a href='vscode-notebook-cell:/c%3A/Users/jyjj0/OneDrive/%EB%B0%94%ED%83%95%20%ED%99%94%EB%A9%B4/Algorithm%20Study/231122%EB%B0%9C%EC%A0%9C/Datapreprocessing%5B%EB%8D%B0%EC%9D%B4%ED%84%B0%20%EC%A0%84%EC%B2%98%EB%A6%AC%5D_1122_%EC%A1%B0%EC%9C%A4%EC%A3%BC.ipynb#X50sZmlsZQ%3D%3D?line=5'>6</a>\u001b[0m \u001b[39m## 이 값을 왜 저장하는가?\u001b[39;00m\n\u001b[0;32m      <a href='vscode-notebook-cell:/c%3A/Users/jyjj0/OneDrive/%EB%B0%94%ED%83%95%20%ED%99%94%EB%A9%B4/Algorithm%20Study/231122%EB%B0%9C%EC%A0%9C/Datapreprocessing%5B%EB%8D%B0%EC%9D%B4%ED%84%B0%20%EC%A0%84%EC%B2%98%EB%A6%AC%5D_1122_%EC%A1%B0%EC%9C%A4%EC%A3%BC.ipynb#X50sZmlsZQ%3D%3D?line=6'>7</a>\u001b[0m \u001b[39m# 어떤 학습용 데이터를 사용하여 예측모형을 만든다고 할때.\u001b[39;00m\n\u001b[0;32m      <a href='vscode-notebook-cell:/c%3A/Users/jyjj0/OneDrive/%EB%B0%94%ED%83%95%20%ED%99%94%EB%A9%B4/Algorithm%20Study/231122%EB%B0%9C%EC%A0%9C/Datapreprocessing%5B%EB%8D%B0%EC%9D%B4%ED%84%B0%20%EC%A0%84%EC%B2%98%EB%A6%AC%5D_1122_%EC%A1%B0%EC%9C%A4%EC%A3%BC.ipynb#X50sZmlsZQ%3D%3D?line=7'>8</a>\u001b[0m \u001b[39m# 학습성능을 좋게 하기 위해 학습용 데이터의 평균값을 데이터에서 빼는 스케일링을 실시함\u001b[39;00m\n\u001b[0;32m      <a href='vscode-notebook-cell:/c%3A/Users/jyjj0/OneDrive/%EB%B0%94%ED%83%95%20%ED%99%94%EB%A9%B4/Algorithm%20Study/231122%EB%B0%9C%EC%A0%9C/Datapreprocessing%5B%EB%8D%B0%EC%9D%B4%ED%84%B0%20%EC%A0%84%EC%B2%98%EB%A6%AC%5D_1122_%EC%A1%B0%EC%9C%A4%EC%A3%BC.ipynb#X50sZmlsZQ%3D%3D?line=8'>9</a>\u001b[0m \u001b[39m# 학습이 끝난 후 이 모형을 사용하여 실제 예측을 할 때 새로운 검증용 데이터를 이 모형에 넣으려면 모형을 학습할 때 사용한 것과 동일한 전처리를 해야 함\u001b[39;00m\n\u001b[0;32m     <a href='vscode-notebook-cell:/c%3A/Users/jyjj0/OneDrive/%EB%B0%94%ED%83%95%20%ED%99%94%EB%A9%B4/Algorithm%20Study/231122%EB%B0%9C%EC%A0%9C/Datapreprocessing%5B%EB%8D%B0%EC%9D%B4%ED%84%B0%20%EC%A0%84%EC%B2%98%EB%A6%AC%5D_1122_%EC%A1%B0%EC%9C%A4%EC%A3%BC.ipynb#X50sZmlsZQ%3D%3D?line=9'>10</a>\u001b[0m \u001b[39m# 이 때 학습용 데이터의 평균값을 빼야 한다는 점에 주의하고, 이렇게 하기 위해서는 전처리 과정에서 계산한 평균값을 기억하고 있어야 함.\u001b[39;00m\n",
      "\u001b[1;31mNameError\u001b[0m: name 'dm' is not defined"
     ]
    }
   ],
   "source": [
    "#25\n",
    "#이 때 평균값은 design_info라는 속성 내부에 저장됨\n",
    "\n",
    "dm.design_info.factor_infos\n",
    "\n",
    "## 이 값을 왜 저장하는가?\n",
    "# 어떤 학습용 데이터를 사용하여 예측모형을 만든다고 할때.\n",
    "# 학습성능을 좋게 하기 위해 학습용 데이터의 평균값을 데이터에서 빼는 스케일링을 실시함\n",
    "# 학습이 끝난 후 이 모형을 사용하여 실제 예측을 할 때 새로운 검증용 데이터를 이 모형에 넣으려면 모형을 학습할 때 사용한 것과 동일한 전처리를 해야 함\n",
    "# 이 때 학습용 데이터의 평균값을 빼야 한다는 점에 주의하고, 이렇게 하기 위해서는 전처리 과정에서 계산한 평균값을 기억하고 있어야 함."
   ]
  },
  {
   "cell_type": "markdown",
   "metadata": {},
   "source": [
    "## 3. 범주형 데이터 처리"
   ]
  },
  {
   "cell_type": "markdown",
   "metadata": {},
   "source": [
    "## 3-1. 범주형 데이터란?\n",
    "\n",
    "- 카테고리(category 데이터)\n",
    "\n",
    "예시) \n",
    "1) 성별: 남자, 여자\n",
    "\n",
    "2) 혈액형: A, B, O, AB\n",
    "\n",
    "3) 이름: 홍길동, 성춘향, …\n",
    "\n",
    "4) 주소: 서울, 부산, 대전, …\n",
    "\n",
    "- 반드시 문자만 범주형 데이터인 것은 아님\n",
    "\n",
    "- 예를 들어 소속을 나타내는 ‘1반’, ‘2반’, ‘3반’과 같은 데이터는 숫자로 표현된 값이지만 ‘1’이라는 글자를 이용한 것 뿐이지 숫자로서의 의미는 없음.\n",
    "\n",
    "=> 즉, ‘2’라는 값이 ‘1’이라는 값보다 2배 더 크다는 뜻이 아니므로 이 경우는 범주형 값으로 보아야 함.\n",
    "\n",
    "## 3-2. 범주형 데이터의 변형 \n",
    "\n",
    "대부분의 데이터 분석 모형은 숫자만 입력가능 따라서, 숫자로 변형해야 함\n",
    "\n",
    "이때, 범주형 데이터를 숫자로 변환하는 방법은 두 가지\n",
    "\n",
    "1) 더미변수화\n",
    "\n",
    "2) 카테고리 임베딩"
   ]
  },
  {
   "cell_type": "markdown",
   "metadata": {},
   "source": [
    "3-2(1) 더미 변수화\n",
    "\n",
    "**더미변수(dummy variable)**는 0 또는 1만 가지는 값으로 어떤 특징의 존재 여부만 표기.\n",
    "\n",
    "카테고리값을 더미변수화하면 복수의 더미변수 벡터로 표시한다. 예를 들어 성별 x\n",
    "는 2개의 더미변수 (d1,d2)로 표현할 수 있음.\n",
    "\n",
    "더미변수 d1는 남자면 1, 여자면 0\n",
    "더미변수 d2는 남자면 0, 여자면 1이 된다는 것\n",
    "\n",
    "x=남자 \n",
    "\n",
    "→d1=1,d2=0\n",
    "\n",
    "x=여자 \n",
    "\n",
    "→d1=0,d2=1"
   ]
  },
  {
   "cell_type": "code",
   "execution_count": null,
   "metadata": {},
   "outputs": [
    {
     "data": {
      "text/html": [
       "<div>\n",
       "<style scoped>\n",
       "    .dataframe tbody tr th:only-of-type {\n",
       "        vertical-align: middle;\n",
       "    }\n",
       "\n",
       "    .dataframe tbody tr th {\n",
       "        vertical-align: top;\n",
       "    }\n",
       "\n",
       "    .dataframe thead th {\n",
       "        text-align: right;\n",
       "    }\n",
       "</style>\n",
       "<table border=\"1\" class=\"dataframe\">\n",
       "  <thead>\n",
       "    <tr style=\"text-align: right;\">\n",
       "      <th></th>\n",
       "      <th>x</th>\n",
       "    </tr>\n",
       "  </thead>\n",
       "  <tbody>\n",
       "    <tr>\n",
       "      <th>0</th>\n",
       "      <td>Male</td>\n",
       "    </tr>\n",
       "    <tr>\n",
       "      <th>1</th>\n",
       "      <td>Female</td>\n",
       "    </tr>\n",
       "  </tbody>\n",
       "</table>\n",
       "</div>"
      ],
      "text/plain": [
       "        x\n",
       "0    Male\n",
       "1  Female"
      ]
     },
     "execution_count": 93,
     "metadata": {},
     "output_type": "execute_result"
    }
   ],
   "source": [
    "#patsy 패키지를 사용한 더미변수화\n",
    "\n",
    "#patsy 패키지의 dmatrix() 함수는 데이터프레임의 문자열 범주값을 더미변수로 바꿔준다. \n",
    "#예를 들어 다음과 같이 성별을 나타내는 “Male”, “Female”값 데이터가 있는 경우,\n",
    "\n",
    "df1 = pd.DataFrame([\"Male\", \"Female\"], columns=[\"x\"])\n",
    "df1"
   ]
  },
  {
   "cell_type": "code",
   "execution_count": null,
   "metadata": {},
   "outputs": [
    {
     "ename": "NameError",
     "evalue": "name 'df1' is not defined",
     "output_type": "error",
     "traceback": [
      "\u001b[1;31m---------------------------------------------------------------------------\u001b[0m",
      "\u001b[1;31mNameError\u001b[0m                                 Traceback (most recent call last)",
      "\u001b[1;32mc:\\Users\\jyjj0\\OneDrive\\바탕 화면\\Algorithm Study\\231122발제\\Datapreprocessing[데이터 전처리]_1122_조윤주.ipynb 셀 41\u001b[0m line \u001b[0;36m9\n\u001b[0;32m      <a href='vscode-notebook-cell:/c%3A/Users/jyjj0/OneDrive/%EB%B0%94%ED%83%95%20%ED%99%94%EB%A9%B4/Algorithm%20Study/231122%EB%B0%9C%EC%A0%9C/Datapreprocessing%5B%EB%8D%B0%EC%9D%B4%ED%84%B0%20%EC%A0%84%EC%B2%98%EB%A6%AC%5D_1122_%EC%A1%B0%EC%9C%A4%EC%A3%BC.ipynb#X55sZmlsZQ%3D%3D?line=0'>1</a>\u001b[0m \u001b[39m# dmatrix() 함수에 넣으면 x[Female], x[Male]이라는 두 개의 더미변수를 만들어 줌\u001b[39;00m\n\u001b[0;32m      <a href='vscode-notebook-cell:/c%3A/Users/jyjj0/OneDrive/%EB%B0%94%ED%83%95%20%ED%99%94%EB%A9%B4/Algorithm%20Study/231122%EB%B0%9C%EC%A0%9C/Datapreprocessing%5B%EB%8D%B0%EC%9D%B4%ED%84%B0%20%EC%A0%84%EC%B2%98%EB%A6%AC%5D_1122_%EC%A1%B0%EC%9C%A4%EC%A3%BC.ipynb#X55sZmlsZQ%3D%3D?line=1'>2</a>\u001b[0m \n\u001b[0;32m      <a href='vscode-notebook-cell:/c%3A/Users/jyjj0/OneDrive/%EB%B0%94%ED%83%95%20%ED%99%94%EB%A9%B4/Algorithm%20Study/231122%EB%B0%9C%EC%A0%9C/Datapreprocessing%5B%EB%8D%B0%EC%9D%B4%ED%84%B0%20%EC%A0%84%EC%B2%98%EB%A6%AC%5D_1122_%EC%A1%B0%EC%9C%A4%EC%A3%BC.ipynb#X55sZmlsZQ%3D%3D?line=2'>3</a>\u001b[0m \u001b[39m# x[Female]는 값이 여자인지 아닌지를 나타내는 더미변수고 x[Male]는 값이 남자인지 아닌지를 나타내는 더미변수\u001b[39;00m\n\u001b[0;32m      <a href='vscode-notebook-cell:/c%3A/Users/jyjj0/OneDrive/%EB%B0%94%ED%83%95%20%ED%99%94%EB%A9%B4/Algorithm%20Study/231122%EB%B0%9C%EC%A0%9C/Datapreprocessing%5B%EB%8D%B0%EC%9D%B4%ED%84%B0%20%EC%A0%84%EC%B2%98%EB%A6%AC%5D_1122_%EC%A1%B0%EC%9C%A4%EC%A3%BC.ipynb#X55sZmlsZQ%3D%3D?line=3'>4</a>\u001b[0m \n\u001b[0;32m      <a href='vscode-notebook-cell:/c%3A/Users/jyjj0/OneDrive/%EB%B0%94%ED%83%95%20%ED%99%94%EB%A9%B4/Algorithm%20Study/231122%EB%B0%9C%EC%A0%9C/Datapreprocessing%5B%EB%8D%B0%EC%9D%B4%ED%84%B0%20%EC%A0%84%EC%B2%98%EB%A6%AC%5D_1122_%EC%A1%B0%EC%9C%A4%EC%A3%BC.ipynb#X55sZmlsZQ%3D%3D?line=4'>5</a>\u001b[0m \u001b[39m# 주의할 점은 formula 문자열에 항상 + 0을 추가하여 상수항이 생기지 않도록 해야 함\u001b[39;00m\n\u001b[0;32m      <a href='vscode-notebook-cell:/c%3A/Users/jyjj0/OneDrive/%EB%B0%94%ED%83%95%20%ED%99%94%EB%A9%B4/Algorithm%20Study/231122%EB%B0%9C%EC%A0%9C/Datapreprocessing%5B%EB%8D%B0%EC%9D%B4%ED%84%B0%20%EC%A0%84%EC%B2%98%EB%A6%AC%5D_1122_%EC%A1%B0%EC%9C%A4%EC%A3%BC.ipynb#X55sZmlsZQ%3D%3D?line=6'>7</a>\u001b[0m \u001b[39mfrom\u001b[39;00m \u001b[39mpatsy\u001b[39;00m \u001b[39mimport\u001b[39;00m dmatrix\n\u001b[1;32m----> <a href='vscode-notebook-cell:/c%3A/Users/jyjj0/OneDrive/%EB%B0%94%ED%83%95%20%ED%99%94%EB%A9%B4/Algorithm%20Study/231122%EB%B0%9C%EC%A0%9C/Datapreprocessing%5B%EB%8D%B0%EC%9D%B4%ED%84%B0%20%EC%A0%84%EC%B2%98%EB%A6%AC%5D_1122_%EC%A1%B0%EC%9C%A4%EC%A3%BC.ipynb#X55sZmlsZQ%3D%3D?line=8'>9</a>\u001b[0m dmatrix(\u001b[39m\"\u001b[39m\u001b[39mx + 0\u001b[39m\u001b[39m\"\u001b[39m, df1)\n",
      "\u001b[1;31mNameError\u001b[0m: name 'df1' is not defined"
     ]
    }
   ],
   "source": [
    "# dmatrix() 함수에 넣으면 x[Female], x[Male]이라는 두 개의 더미변수를 만들어 줌\n",
    "\n",
    "# x[Female]는 값이 여자인지 아닌지를 나타내는 더미변수고 x[Male]는 값이 남자인지 아닌지를 나타내는 더미변수\n",
    "\n",
    "# 주의할 점은 formula 문자열에 항상 + 0을 추가하여 상수항이 생기지 않도록 해야 함\n",
    "\n",
    "from patsy import dmatrix\n",
    "\n",
    "dmatrix(\"x + 0\", df1)"
   ]
  },
  {
   "cell_type": "code",
   "execution_count": null,
   "metadata": {},
   "outputs": [
    {
     "data": {
      "text/html": [
       "<div>\n",
       "<style scoped>\n",
       "    .dataframe tbody tr th:only-of-type {\n",
       "        vertical-align: middle;\n",
       "    }\n",
       "\n",
       "    .dataframe tbody tr th {\n",
       "        vertical-align: top;\n",
       "    }\n",
       "\n",
       "    .dataframe thead th {\n",
       "        text-align: right;\n",
       "    }\n",
       "</style>\n",
       "<table border=\"1\" class=\"dataframe\">\n",
       "  <thead>\n",
       "    <tr style=\"text-align: right;\">\n",
       "      <th></th>\n",
       "      <th>x1</th>\n",
       "      <th>x2</th>\n",
       "      <th>x3</th>\n",
       "      <th>x4</th>\n",
       "      <th>x5</th>\n",
       "    </tr>\n",
       "  </thead>\n",
       "  <tbody>\n",
       "    <tr>\n",
       "      <th>0</th>\n",
       "      <td>1.764052</td>\n",
       "      <td>-0.977278</td>\n",
       "      <td>0.144044</td>\n",
       "      <td>0.333674</td>\n",
       "      <td>-2.552990</td>\n",
       "    </tr>\n",
       "    <tr>\n",
       "      <th>1</th>\n",
       "      <td>0.400157</td>\n",
       "      <td>0.950088</td>\n",
       "      <td>1.454274</td>\n",
       "      <td>1.494079</td>\n",
       "      <td>0.653619</td>\n",
       "    </tr>\n",
       "    <tr>\n",
       "      <th>2</th>\n",
       "      <td>0.978738</td>\n",
       "      <td>-0.151357</td>\n",
       "      <td>0.761038</td>\n",
       "      <td>-0.205158</td>\n",
       "      <td>0.864436</td>\n",
       "    </tr>\n",
       "    <tr>\n",
       "      <th>3</th>\n",
       "      <td>2.240893</td>\n",
       "      <td>-0.103219</td>\n",
       "      <td>0.121675</td>\n",
       "      <td>0.313068</td>\n",
       "      <td>-0.742165</td>\n",
       "    </tr>\n",
       "    <tr>\n",
       "      <th>4</th>\n",
       "      <td>1.867558</td>\n",
       "      <td>0.410599</td>\n",
       "      <td>0.443863</td>\n",
       "      <td>-0.854096</td>\n",
       "      <td>2.269755</td>\n",
       "    </tr>\n",
       "  </tbody>\n",
       "</table>\n",
       "</div>"
      ],
      "text/plain": [
       "         x1        x2        x3        x4        x5\n",
       "0  1.764052 -0.977278  0.144044  0.333674 -2.552990\n",
       "1  0.400157  0.950088  1.454274  1.494079  0.653619\n",
       "2  0.978738 -0.151357  0.761038 -0.205158  0.864436\n",
       "3  2.240893 -0.103219  0.121675  0.313068 -0.742165\n",
       "4  1.867558  0.410599  0.443863 -0.854096  2.269755"
      ]
     },
     "execution_count": 22,
     "metadata": {},
     "output_type": "execute_result"
    }
   ],
   "source": [
    "# 다음은 혈액형 데이터를 더미변수로 바꾸는 예제 코드(변수가 2개 이상일 떄)\n",
    "\n",
    "df2 = pd.DataFrame([\"A\", \"B\", \"AB\", \"O\"], columns=[\"x\"])\n",
    "df"
   ]
  },
  {
   "cell_type": "code",
   "execution_count": null,
   "metadata": {},
   "outputs": [
    {
     "data": {
      "text/plain": [
       "DesignMatrix with shape (4, 4)\n",
       "  x[A]  x[AB]  x[B]  x[O]\n",
       "     1      0     0     0\n",
       "     0      0     1     0\n",
       "     0      1     0     0\n",
       "     0      0     0     1\n",
       "  Terms:\n",
       "    'x' (columns 0:4)"
      ]
     },
     "execution_count": 96,
     "metadata": {},
     "output_type": "execute_result"
    }
   ],
   "source": [
    "# #각각의 범주값에 대응하는 더미변수는 알파벳 순서로 정해진다. \n",
    "\n",
    "# 혈액형의 경우에는 d1이 A형, \n",
    "# d2이 AB형, \n",
    "# d3이 B형, \n",
    "# d4이 O형이다.\n",
    "\n",
    "dmatrix(\"x + 0\", df2)"
   ]
  },
  {
   "cell_type": "code",
   "execution_count": null,
   "metadata": {},
   "outputs": [
    {
     "data": {
      "text/html": [
       "<div>\n",
       "<style scoped>\n",
       "    .dataframe tbody tr th:only-of-type {\n",
       "        vertical-align: middle;\n",
       "    }\n",
       "\n",
       "    .dataframe tbody tr th {\n",
       "        vertical-align: top;\n",
       "    }\n",
       "\n",
       "    .dataframe thead th {\n",
       "        text-align: right;\n",
       "    }\n",
       "</style>\n",
       "<table border=\"1\" class=\"dataframe\">\n",
       "  <thead>\n",
       "    <tr style=\"text-align: right;\">\n",
       "      <th></th>\n",
       "      <th>x</th>\n",
       "    </tr>\n",
       "  </thead>\n",
       "  <tbody>\n",
       "    <tr>\n",
       "      <th>0</th>\n",
       "      <td>1</td>\n",
       "    </tr>\n",
       "    <tr>\n",
       "      <th>1</th>\n",
       "      <td>2</td>\n",
       "    </tr>\n",
       "    <tr>\n",
       "      <th>2</th>\n",
       "      <td>3</td>\n",
       "    </tr>\n",
       "    <tr>\n",
       "      <th>3</th>\n",
       "      <td>4</td>\n",
       "    </tr>\n",
       "  </tbody>\n",
       "</table>\n",
       "</div>"
      ],
      "text/plain": [
       "   x\n",
       "0  1\n",
       "1  2\n",
       "2  3\n",
       "3  4"
      ]
     },
     "execution_count": 72,
     "metadata": {},
     "output_type": "execute_result"
    }
   ],
   "source": [
    "#데이터가 범주형 값이지만 정수로 표시된 경우에는 C() 연산자를 이용하여 범주형 값임을 명시적으로 지정할 수 있음\n",
    "\n",
    "df3 = pd.DataFrame([1, 2, 3, 4], columns=[\"x\"])\n",
    "df3"
   ]
  },
  {
   "cell_type": "code",
   "execution_count": null,
   "metadata": {},
   "outputs": [
    {
     "data": {
      "text/plain": [
       "DesignMatrix with shape (4, 4)\n",
       "  C(x)[1]  C(x)[2]  C(x)[3]  C(x)[4]\n",
       "        1        0        0        0\n",
       "        0        1        0        0\n",
       "        0        0        1        0\n",
       "        0        0        0        1\n",
       "  Terms:\n",
       "    'C(x)' (columns 0:4)"
      ]
     },
     "execution_count": 98,
     "metadata": {},
     "output_type": "execute_result"
    }
   ],
   "source": [
    "dmatrix(\"C(x) + 0\", df3)"
   ]
  },
  {
   "cell_type": "code",
   "execution_count": null,
   "metadata": {},
   "outputs": [
    {
     "data": {
      "text/plain": [
       "DesignMatrix with shape (4, 4)\n",
       "  Columns:\n",
       "    [\"C(x, levels=['A', 'B', 'AB', 'O'])[A]\",\n",
       "     \"C(x, levels=['A', 'B', 'AB', 'O'])[B]\",\n",
       "     \"C(x, levels=['A', 'B', 'AB', 'O'])[AB]\",\n",
       "     \"C(x, levels=['A', 'B', 'AB', 'O'])[O]\"]\n",
       "  Terms:\n",
       "    \"C(x, levels=['A', 'B', 'AB', 'O'])\" (columns 0:4)\n",
       "  (to view full data, use np.asarray(this_obj))"
      ]
     },
     "execution_count": 75,
     "metadata": {},
     "output_type": "execute_result"
    }
   ],
   "source": [
    "#더미변수 순서 바꾸기... C() 연산자를 사용하여..\n",
    "\n",
    "# 예시는 혈액형 \n",
    "# d1이 A형, \n",
    "# d2이 B형, \n",
    "# d3이 AB형, \n",
    "# d4이 O형으로 만들고 싶으면 다음과 같이 level 인수를 사용한다.\n",
    "\n",
    "dm = dmatrix(\"C(x, levels=['A', 'B', 'AB', 'O']) + 0\", df2)\n",
    "dm"
   ]
  },
  {
   "cell_type": "code",
   "execution_count": null,
   "metadata": {},
   "outputs": [
    {
     "data": {
      "text/plain": [
       "array([[1., 0., 0., 0.],\n",
       "       [0., 1., 0., 0.],\n",
       "       [0., 0., 1., 0.],\n",
       "       [0., 0., 0., 1.]])"
      ]
     },
     "execution_count": 100,
     "metadata": {},
     "output_type": "execute_result"
    }
   ],
   "source": [
    "np.asarray(dm)"
   ]
  },
  {
   "cell_type": "markdown",
   "metadata": {},
   "source": [
    "## 축소랭크 방식\n",
    "\n",
    "- 지금까지 설명한 더미변수 방식을 풀랭크(full-rank) 방식\n",
    "\n",
    "- 이와 달리 축소랭크(reducec-rank) 방식은 특정한 하나의 범주값을 기준값(reference, baseline)으로 하고 \n",
    "- 기준값에 대응하는 더미변수의 가중치는 항상 1으로 놓음\n",
    "- 다른 범주형 값을 가지는 경우는 기준값 더미변수도 1이고 추가적인 특성을 나타내는 더미변수도 1인 것으로 간주함\n",
    "\n",
    "- 예를 들어 다음 사진은 x=A를 기준값으로 축소랭크 방식을 사용한 경우(아래 사진 참조)\n",
    " \n",
    "- dmatrix() 함수를 사용시 formula 문자열에 + 0을 생략하면 축소랭크 방식으로 더미변수 생성\n",
    "\n",
    "- 기준이 되는 더미변수의 이름이 Intercept가 됨\n",
    "\n",
    "- 기준이 되는 더미변수는 알파벳 순서로 가장 앞의 값이 되며, \n",
    "- 다음 예제코드에서는 Female이 기준 범주값이 됨"
   ]
  },
  {
   "cell_type": "code",
   "execution_count": 135,
   "metadata": {},
   "outputs": [],
   "source": [
    "from PIL import Image\n",
    "from IPython.display import display\n",
    "\n",
    "image_path = 'C:/Users/jyjj0/OneDrive/바탕 화면/축소 랭크 방식.png'\n",
    "\n",
    "img = Image.open(image_path)\n",
    "\n",
    "if img.mode == 'RGBA':\n",
    "    img = img.convert('RGB')\n",
    "\n",
    "img.save('C:/Users/jyjj0/OneDrive/바탕 화면/축소 랭크 방식.png', 'JPEG')\n",
    "\n",
    "display(img)"
   ]
  },
  {
   "cell_type": "code",
   "execution_count": null,
   "metadata": {},
   "outputs": [
    {
     "ename": "NameError",
     "evalue": "name 'df1' is not defined",
     "output_type": "error",
     "traceback": [
      "\u001b[1;31m---------------------------------------------------------------------------\u001b[0m",
      "\u001b[1;31mNameError\u001b[0m                                 Traceback (most recent call last)",
      "\u001b[1;32mc:\\Users\\jyjj0\\OneDrive\\바탕 화면\\Algorithm Study\\231122발제\\Datapreprocessing[데이터 전처리]_1122_조윤주.ipynb 셀 49\u001b[0m line \u001b[0;36m1\n\u001b[1;32m----> <a href='vscode-notebook-cell:/c%3A/Users/jyjj0/OneDrive/%EB%B0%94%ED%83%95%20%ED%99%94%EB%A9%B4/Algorithm%20Study/231122%EB%B0%9C%EC%A0%9C/Datapreprocessing%5B%EB%8D%B0%EC%9D%B4%ED%84%B0%20%EC%A0%84%EC%B2%98%EB%A6%AC%5D_1122_%EC%A1%B0%EC%9C%A4%EC%A3%BC.ipynb#Y106sZmlsZQ%3D%3D?line=0'>1</a>\u001b[0m dmatrix(\u001b[39m\"\u001b[39m\u001b[39mx\u001b[39m\u001b[39m\"\u001b[39m, df1)\n",
      "\u001b[1;31mNameError\u001b[0m: name 'df1' is not defined"
     ]
    }
   ],
   "source": [
    "\n",
    "dmatrix(\"x\", df1)\n"
   ]
  },
  {
   "cell_type": "code",
   "execution_count": null,
   "metadata": {},
   "outputs": [
    {
     "ename": "NameError",
     "evalue": "name 'df1' is not defined",
     "output_type": "error",
     "traceback": [
      "\u001b[1;31m---------------------------------------------------------------------------\u001b[0m",
      "\u001b[1;31mNameError\u001b[0m                                 Traceback (most recent call last)",
      "\u001b[1;32mc:\\Users\\jyjj0\\OneDrive\\바탕 화면\\Algorithm Study\\231122발제\\Datapreprocessing[데이터 전처리]_1122_조윤주.ipynb 셀 50\u001b[0m line \u001b[0;36m3\n\u001b[0;32m      <a href='vscode-notebook-cell:/c%3A/Users/jyjj0/OneDrive/%EB%B0%94%ED%83%95%20%ED%99%94%EB%A9%B4/Algorithm%20Study/231122%EB%B0%9C%EC%A0%9C/Datapreprocessing%5B%EB%8D%B0%EC%9D%B4%ED%84%B0%20%EC%A0%84%EC%B2%98%EB%A6%AC%5D_1122_%EC%A1%B0%EC%9C%A4%EC%A3%BC.ipynb#Y110sZmlsZQ%3D%3D?line=0'>1</a>\u001b[0m \u001b[39m# 기준 범주값을 다른 값으로 바꾸기 위한 ... Treatment() 함수! -> formula 문자열에서 사용가능\u001b[39;00m\n\u001b[1;32m----> <a href='vscode-notebook-cell:/c%3A/Users/jyjj0/OneDrive/%EB%B0%94%ED%83%95%20%ED%99%94%EB%A9%B4/Algorithm%20Study/231122%EB%B0%9C%EC%A0%9C/Datapreprocessing%5B%EB%8D%B0%EC%9D%B4%ED%84%B0%20%EC%A0%84%EC%B2%98%EB%A6%AC%5D_1122_%EC%A1%B0%EC%9C%A4%EC%A3%BC.ipynb#Y110sZmlsZQ%3D%3D?line=2'>3</a>\u001b[0m dmatrix(\u001b[39m\"\u001b[39m\u001b[39mC(x, Treatment(\u001b[39m\u001b[39m'\u001b[39m\u001b[39mMale\u001b[39m\u001b[39m'\u001b[39m\u001b[39m))\u001b[39m\u001b[39m\"\u001b[39m, df1)\n",
      "\u001b[1;31mNameError\u001b[0m: name 'df1' is not defined"
     ]
    }
   ],
   "source": [
    "# 기준 범주값을 다른 값으로 바꾸기 위한 ... Treatment() 함수! -> formula 문자열에서 사용가능\n",
    "\n",
    "dmatrix(\"C(x, Treatment('Male'))\", df1)"
   ]
  },
  {
   "cell_type": "code",
   "execution_count": null,
   "metadata": {},
   "outputs": [
    {
     "data": {
      "text/plain": [
       "DesignMatrix with shape (4, 4)\n",
       "  Intercept  x[T.AB]  x[T.B]  x[T.O]\n",
       "          1        0       0       0\n",
       "          1        0       1       0\n",
       "          1        1       0       0\n",
       "          1        0       0       1\n",
       "  Terms:\n",
       "    'Intercept' (column 0)\n",
       "    'x' (columns 1:4)"
      ]
     },
     "execution_count": 82,
     "metadata": {},
     "output_type": "execute_result"
    }
   ],
   "source": [
    "# 혈액형 데이터를 축소랭크방식으로 더미변수화하면 다음과 같고, 기준 범주값은 A\n",
    "\n",
    "dmatrix(\"x\", df2)"
   ]
  },
  {
   "cell_type": "markdown",
   "metadata": {},
   "source": [
    "# 두 개의 범주형 변수가 있는 경우\n",
    "\n",
    "- 다음과 같은 두 가지 방법을 사용할 수 있다.\n",
    "\n",
    "1) 통합 축소형 방식\n",
    "\n",
    "2) 상호작용 방식\n",
    "\n",
    "- 1)통합 축소형 방식은 각각의 변수를 축소형으로 기준값을 더미변수화함\n",
    "\n",
    "- 다만 기준값을 나타내는 더미변수는 변수의 갯수와 상관없이 하나로 통합"
   ]
  },
  {
   "cell_type": "code",
   "execution_count": null,
   "metadata": {},
   "outputs": [
    {
     "data": {
      "text/html": [
       "<div>\n",
       "<style scoped>\n",
       "    .dataframe tbody tr th:only-of-type {\n",
       "        vertical-align: middle;\n",
       "    }\n",
       "\n",
       "    .dataframe tbody tr th {\n",
       "        vertical-align: top;\n",
       "    }\n",
       "\n",
       "    .dataframe thead th {\n",
       "        text-align: right;\n",
       "    }\n",
       "</style>\n",
       "<table border=\"1\" class=\"dataframe\">\n",
       "  <thead>\n",
       "    <tr style=\"text-align: right;\">\n",
       "      <th></th>\n",
       "      <th>x1</th>\n",
       "      <th>x2</th>\n",
       "    </tr>\n",
       "  </thead>\n",
       "  <tbody>\n",
       "    <tr>\n",
       "      <th>0</th>\n",
       "      <td>A</td>\n",
       "      <td>X</td>\n",
       "    </tr>\n",
       "    <tr>\n",
       "      <th>1</th>\n",
       "      <td>B</td>\n",
       "      <td>X</td>\n",
       "    </tr>\n",
       "    <tr>\n",
       "      <th>2</th>\n",
       "      <td>A</td>\n",
       "      <td>Y</td>\n",
       "    </tr>\n",
       "    <tr>\n",
       "      <th>3</th>\n",
       "      <td>B</td>\n",
       "      <td>Y</td>\n",
       "    </tr>\n",
       "  </tbody>\n",
       "</table>\n",
       "</div>"
      ],
      "text/plain": [
       "  x1 x2\n",
       "0  A  X\n",
       "1  B  X\n",
       "2  A  Y\n",
       "3  B  Y"
      ]
     },
     "execution_count": 83,
     "metadata": {},
     "output_type": "execute_result"
    }
   ],
   "source": [
    "# 예시) A, B 값을 가지는 범주형 변수 x1과 X, Y 값을 가지는 범주형 변수 x2가 있는 경우\n",
    "\n",
    "df4 = pd.DataFrame([[\"A\", \"X\"], [\"B\", \"X\"], [\"A\", \"Y\"], [\"B\", \"Y\"]], columns=[\"x1\", \"x2\"])\n",
    "df4"
   ]
  },
  {
   "cell_type": "code",
   "execution_count": null,
   "metadata": {},
   "outputs": [
    {
     "data": {
      "text/plain": [
       "DesignMatrix with shape (4, 3)\n",
       "  Intercept  x1[T.B]  x2[T.Y]\n",
       "          1        0        0\n",
       "          1        1        0\n",
       "          1        0        1\n",
       "          1        1        1\n",
       "  Terms:\n",
       "    'Intercept' (column 0)\n",
       "    'x1' (column 1)\n",
       "    'x2' (column 2)"
      ]
     },
     "execution_count": 85,
     "metadata": {},
     "output_type": "execute_result"
    }
   ],
   "source": [
    "#1)통합 축소형 방식에서는 다음과 같이 3개의 더미변수 (d1,d2,d3) 생성\n",
    " \n",
    "dmatrix(\"x1 + x2\", df4)"
   ]
  },
  {
   "cell_type": "code",
   "execution_count": null,
   "metadata": {},
   "outputs": [
    {
     "data": {
      "text/plain": [
       "DesignMatrix with shape (4, 4)\n",
       "  x1[A]:x2[X]  x1[B]:x2[X]  x1[A]:x2[Y]  x1[B]:x2[Y]\n",
       "            1            0            0            0\n",
       "            0            1            0            0\n",
       "            0            0            1            0\n",
       "            0            0            0            1\n",
       "  Terms:\n",
       "    'x1:x2' (columns 0:4)"
      ]
     },
     "execution_count": 86,
     "metadata": {},
     "output_type": "execute_result"
    }
   ],
   "source": [
    "#2)상호작용 방식은 두 범주형 변수를 곱해서 각각의 변수의 조합을 나타내는 새로운 범주형 변수를 만드는 방식\n",
    "#즉 앞의 예제에서는 범주형 독립변수가 하나가 되고 대신 범주형 값이 두 독립변수의 범주형 값들의 조합인 AX, BX, AY, BY의 네가지가 됨\n",
    "\n",
    "dmatrix(\"x1:x2 + 0\", df4)"
   ]
  },
  {
   "cell_type": "markdown",
   "metadata": {},
   "source": [
    "3-2(2)카테고리 임베딩\n",
    "\n",
    "- 카테고리 임베딩(embedding)은 범주값 대신 범주값의 특성을 나타내는 연속값 혹은 연속값 벡터를 사용하는 방법\n",
    "\n",
    "- 예를 들면 1) 운동선수의 이름을 나타내는 범주값의 경우 해당 운동선수의 나이, 연봉, 신체능력치 등을 대신 사용하는 경우 2) 지역명을 나타내는 범주값의 경우에는 해당 지역의 면적, 인구수 등을 사용하는 경우\n",
    "\n",
    "- 그러나 임베딩을 사용하는 경우, 1) 데이터 분석 목적에 맞게 특징을 선택해야 하고 2) 외부의 추가적인 데이터를 조사해야 한다는 부담이 있음"
   ]
  },
  {
   "cell_type": "markdown",
   "metadata": {},
   "source": [
    "## 주가 데이터 저장하기 (SQLite사용)"
   ]
  },
  {
   "cell_type": "markdown",
   "metadata": {},
   "source": [
    "- SQLite란, 데이터베이스 관리 시스템(DBMS; Database Management System)\n",
    "\n",
    "<img src = \"https://wikidocs.net/images/page/5326/r17.01.png\" height = 400 width = 800 >\n",
    "\n",
    "-> DBMS란,  그림과 같이 여러 사용자 또는 응용 프로그램이 데이터를 저장하거나 조회할 수 있게 도와주는 시스템 및 소프트웨어\n",
    "\n",
    "- 대표적으로 MySQL, PostgreSQL, Oracle, MS-SQL가 있음\n"
   ]
  },
  {
   "cell_type": "markdown",
   "metadata": {},
   "source": [
    "## SQLite가 무엇인가?\n",
    "- 가볍게 사용가능한 내장형 데이터 베이스. 별도의 서버 프로세스가 필요 없어 설치 및 관리가 간편함\n",
    "\n",
    "- 안드로이드폰, 아이폰 app에서 많이 사용됨"
   ]
  },
  {
   "cell_type": "markdown",
   "metadata": {},
   "source": [
    "## SQLite는 어떻게 쓰는가?"
   ]
  },
  {
   "cell_type": "code",
   "execution_count": null,
   "metadata": {},
   "outputs": [
    {
     "data": {
      "text/html": [
       "\n",
       "<!DOCTYPE html>\n",
       "<html lang=\"en\">\n",
       "<head>\n",
       "    <meta charset=\"UTF-8\">\n",
       "    <meta name=\"viewport\" content=\"width=device-width, initial-scale=1.0\">\n",
       "    <title>위키독스 링크로 이동</title>\n",
       "</head>\n",
       "<body>\n",
       "\n",
       "<!-- 위키독스 링크 -->\n",
       "<a href=\"https://wikidocs.net/5328\" target=\"_blank\">위키독스로 이동</a>\n",
       "\n",
       "</body>\n",
       "</html>\n"
      ],
      "text/plain": [
       "<IPython.core.display.HTML object>"
      ]
     },
     "execution_count": 89,
     "metadata": {},
     "output_type": "execute_result"
    }
   ],
   "source": [
    "from IPython.display import HTML\n",
    "\n",
    "html_code = \"\"\"\n",
    "<!DOCTYPE html>\n",
    "<html lang=\"en\">\n",
    "<head>\n",
    "    <meta charset=\"UTF-8\">\n",
    "    <meta name=\"viewport\" content=\"width=device-width, initial-scale=1.0\">\n",
    "    <title>위키독스 링크로 이동</title>\n",
    "</head>\n",
    "<body>\n",
    "\n",
    "<!-- 위키독스 링크 -->\n",
    "<a href=\"https://wikidocs.net/5328\" target=\"_blank\">위키독스로 이동</a>\n",
    "\n",
    "</body>\n",
    "</html>\n",
    "\"\"\"\n",
    "\n",
    "HTML(html_code)\n"
   ]
  }
 ],
 "metadata": {
  "kernelspec": {
   "display_name": "Python 3",
   "language": "python",
   "name": "python3"
  },
  "language_info": {
   "codemirror_mode": {
    "name": "ipython",
    "version": 3
   },
   "file_extension": ".py",
   "mimetype": "text/x-python",
   "name": "python",
   "nbconvert_exporter": "python",
   "pygments_lexer": "ipython3",
   "version": "3.11.5"
  }
 },
 "nbformat": 4,
 "nbformat_minor": 2
}
