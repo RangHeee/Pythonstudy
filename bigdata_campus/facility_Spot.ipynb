{
 "cells": [
  {
   "cell_type": "code",
   "execution_count": 1,
   "metadata": {},
   "outputs": [],
   "source": [
    "import geopandas as gpd\n",
    "from shapely.geometry import Point\n",
    "\n",
    "# 장애인 체육시설 정보를 리스트에 저장합니다.\n",
    "facilities = [\n",
    "    {'name': 'SRC서울센터', 'lat': 37.4931317, 'lon': 126.9271949},\n",
    "    {'name': '서울곰두리체육센터', 'lat': 37.5004279, 'lon': 127.1354797},\n",
    "    {'name': '서부재활체육센터', 'lat': 37.6052767, 'lon': 126.9070827},\n",
    "    {'name': '동천재활체육센터', 'lat': 37.6446381, 'lon': 127.0729580},\n",
    "    {'name': '마포푸르메스포츠센터', 'lat': 37.5844507, 'lon': 126.8805679},\n",
    "    {'name': '서울수중재활센터', 'lat': 37.5548989, 'lon': 127.1486874},\n",
    "    {'name': '기쁜우리체육센터', 'lat': 37.5691778, 'lon': 126.8489398},\n",
    "    {'name': '정립회관 (체육센터)', 'lat': 37.5508019, 'lon': 127.0976391}\n",
    "]\n",
    "\n",
    "# Point 객체로 변환합니다.\n",
    "geometry = [Point(lon, lat) for lat, lon in [(facility['lat'], facility['lon']) for facility in facilities]]\n",
    "\n",
    "# GeoDataFrame을 생성합니다.\n",
    "gdf = gpd.GeoDataFrame(facilities, geometry=geometry, crs='EPSG:4326')\n",
    "\n",
    "# SHP 파일로 저장합니다.\n",
    "gdf.to_file('disability_sports_facilities.shp')"
   ]
  }
 ],
 "metadata": {
  "kernelspec": {
   "display_name": "Python 3",
   "language": "python",
   "name": "python3"
  },
  "language_info": {
   "codemirror_mode": {
    "name": "ipython",
    "version": 3
   },
   "file_extension": ".py",
   "mimetype": "text/x-python",
   "name": "python",
   "nbconvert_exporter": "python",
   "pygments_lexer": "ipython3",
   "version": "3.11.4"
  }
 },
 "nbformat": 4,
 "nbformat_minor": 2
}
